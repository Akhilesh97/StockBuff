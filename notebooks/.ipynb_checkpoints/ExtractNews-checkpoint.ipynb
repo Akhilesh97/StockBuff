{
 "cells": [
  {
   "cell_type": "code",
   "execution_count": 1,
   "id": "89966a56",
   "metadata": {},
   "outputs": [],
   "source": [
    "import requests\n",
    "import json\n",
    "import datetime\n",
    "import os\n",
    "import pandas as pd"
   ]
  },
  {
   "cell_type": "code",
   "execution_count": 25,
   "id": "7ce5b36b",
   "metadata": {},
   "outputs": [],
   "source": [
    "class extract_news:\n",
    "    def __init__(self, api_key, ticker, from_date, to_date, filepath, base_url):\n",
    "        self.api_key = api_key\n",
    "        self.ticker = ticker\n",
    "        self.from_date = from_date\n",
    "        self.to_date = to_date\n",
    "        self.base_url = base_url\n",
    "        self.filepath = filepath\n",
    "    \n",
    "    def get_data(self):\n",
    "        result = requests.get(\"%s?api_token=%s&s=%s&from=%s&to=%s&limit=1000\"%(self.base_url, self.api_key, self.ticker, self.from_date, self.to_date))\n",
    "        if result:\n",
    "            print(\"Response - 200. Successful data extraction\")\n",
    "        else:\n",
    "            print(result)\n",
    "            print(\"API Limit Exceeded\")\n",
    "        return result\n",
    "    \n",
    "    def create_df(self, result):\n",
    "        json_result = json.loads(result.text)\n",
    "        df = pd.DataFrame.from_dict(json_result)\n",
    "        return df\n",
    "    \n",
    "    def write_to_csv(self, df):\n",
    "        print(self.filepath)\n",
    "        if not os.path.exists(self.filepath):\n",
    "            dirname = os.path.dirname(self.filepath)\n",
    "            os.makedirs(dirname)\n",
    "            \n",
    "        df.to_csv(self.filepath)\n",
    "        "
   ]
  },
  {
   "cell_type": "code",
   "execution_count": 26,
   "id": "fbc4413f",
   "metadata": {},
   "outputs": [
    {
     "name": "stdout",
     "output_type": "stream",
     "text": [
      "Response - 200. Successful data extraction\n"
     ]
    }
   ],
   "source": [
    "api_key = \"634b3c336bfff7.89514674\"\n",
    "ticker = \"MSFT.US\"\n",
    "current_date_str = str(datetime.date.today().month)+str(datetime.date.today().day)+str(datetime.date.today().year)\n",
    "filepath = \"../data/%s/%s/%s_sentiment_data.csv\"%(ticker.replace(\".US\",\"\"), current_date_str, ticker.replace(\".US\",\"\").lower())\n",
    "base_url = \"https://eodhistoricaldata.com/api/news\"\n",
    "\n",
    "extractor = extract_news(api_key, ticker, from_date, to_date, filepath, base_url)\n",
    "result = extractor.get_data()"
   ]
  },
  {
   "cell_type": "code",
   "execution_count": 29,
   "id": "d35892fd",
   "metadata": {},
   "outputs": [],
   "source": [
    "df = extractor.create_df(result)\n",
    "#extractor.write_to_csv(df)"
   ]
  }
 ],
 "metadata": {
  "kernelspec": {
   "display_name": "Python 3 (ipykernel)",
   "language": "python",
   "name": "python3"
  },
  "language_info": {
   "codemirror_mode": {
    "name": "ipython",
    "version": 3
   },
   "file_extension": ".py",
   "mimetype": "text/x-python",
   "name": "python",
   "nbconvert_exporter": "python",
   "pygments_lexer": "ipython3",
   "version": "3.9.12"
  }
 },
 "nbformat": 4,
 "nbformat_minor": 5
}
