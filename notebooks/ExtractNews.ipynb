{
 "cells": [
  {
   "cell_type": "code",
   "execution_count": 10,
   "id": "89966a56",
   "metadata": {},
   "outputs": [],
   "source": [
    "import requests\n",
    "import json"
   ]
  },
  {
   "cell_type": "code",
   "execution_count": 29,
   "id": "a1e3fb27",
   "metadata": {},
   "outputs": [],
   "source": [
    "api_key = \"634b3c336bfff7.89514674\"\n",
    "ticker = \"AAPL.US\"\n",
    "from_date = \"2015-03-01\"\n",
    "to_date = \"2021-03-01\"\n",
    "result = requests.get(\"https://eodhistoricaldata.com/api/news?api_token=%s&s=%s&from=%s&to=%s&limit=1000\"%(api_key, ticker, from_date, to_date))"
   ]
  },
  {
   "cell_type": "code",
   "execution_count": 30,
   "id": "e59c07fa",
   "metadata": {},
   "outputs": [
    {
     "data": {
      "text/plain": [
       "<Response [200]>"
      ]
     },
     "execution_count": 30,
     "metadata": {},
     "output_type": "execute_result"
    }
   ],
   "source": [
    "result"
   ]
  },
  {
   "cell_type": "code",
   "execution_count": 31,
   "id": "3156ca8a",
   "metadata": {},
   "outputs": [],
   "source": [
    "json_result = json.loads(result.text)"
   ]
  },
  {
   "cell_type": "code",
   "execution_count": 32,
   "id": "5eb4f0e5",
   "metadata": {},
   "outputs": [
    {
     "data": {
      "text/plain": [
       "645"
      ]
     },
     "execution_count": 32,
     "metadata": {},
     "output_type": "execute_result"
    }
   ],
   "source": [
    "len(json_result)"
   ]
  },
  {
   "cell_type": "code",
   "execution_count": 34,
   "id": "4418c7aa",
   "metadata": {},
   "outputs": [],
   "source": [
    "import pandas as pd\n",
    "df = pd.DataFrame.from_dict(json_result)"
   ]
  },
  {
   "cell_type": "code",
   "execution_count": 37,
   "id": "a569423d",
   "metadata": {},
   "outputs": [
    {
     "data": {
      "text/plain": [
       "0      2021-03-01T23:04:15+00:00\n",
       "1      2021-03-01T22:05:12+00:00\n",
       "2      2021-03-01T20:20:54+00:00\n",
       "3      2021-03-01T20:20:54+00:00\n",
       "4      2021-03-01T19:01:11+00:00\n",
       "                 ...            \n",
       "640    2018-01-31T12:55:00+00:00\n",
       "641    2017-11-30T14:27:00+00:00\n",
       "642    2017-11-27T13:00:00+00:00\n",
       "643    2017-10-05T15:58:00+00:00\n",
       "644    2016-02-19T15:05:00+00:00\n",
       "Name: date, Length: 645, dtype: object"
      ]
     },
     "execution_count": 37,
     "metadata": {},
     "output_type": "execute_result"
    }
   ],
   "source": [
    "df[\"date\"]"
   ]
  },
  {
   "cell_type": "code",
   "execution_count": 39,
   "id": "5d78cdea",
   "metadata": {},
   "outputs": [],
   "source": [
    "df.to_csv(\"Sample_News.csv\")"
   ]
  }
 ],
 "metadata": {
  "kernelspec": {
   "display_name": "Python 3 (ipykernel)",
   "language": "python",
   "name": "python3"
  },
  "language_info": {
   "codemirror_mode": {
    "name": "ipython",
    "version": 3
   },
   "file_extension": ".py",
   "mimetype": "text/x-python",
   "name": "python",
   "nbconvert_exporter": "python",
   "pygments_lexer": "ipython3",
   "version": "3.9.12"
  }
 },
 "nbformat": 4,
 "nbformat_minor": 5
}
