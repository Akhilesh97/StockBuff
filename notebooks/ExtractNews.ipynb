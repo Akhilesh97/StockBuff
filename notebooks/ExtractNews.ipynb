{
 "cells": [
  {
   "cell_type": "code",
   "execution_count": 1,
   "id": "89966a56",
   "metadata": {},
   "outputs": [],
   "source": [
    "import requests\n",
    "import json\n",
    "import datetime\n",
    "import os\n",
    "import pandas as pd"
   ]
  },
  {
   "cell_type": "code",
   "execution_count": 46,
   "id": "9ee0bd54",
   "metadata": {},
   "outputs": [],
   "source": [
    "result = requests.get(\"https://newsapi.org/v2/everything?q=Apple Stock&from=2022-01-05&to=2022-12-05&sortBy=publishedAt&apiKey=57615ba120e6409c98d213eab48275fc\")"
   ]
  },
  {
   "cell_type": "code",
   "execution_count": 47,
   "id": "e3050530",
   "metadata": {},
   "outputs": [
    {
     "data": {
      "text/plain": [
       "<Response [426]>"
      ]
     },
     "execution_count": 47,
     "metadata": {},
     "output_type": "execute_result"
    }
   ],
   "source": [
    "result"
   ]
  },
  {
   "cell_type": "code",
   "execution_count": 39,
   "id": "5172e916",
   "metadata": {},
   "outputs": [],
   "source": [
    "json_result = json.loads(result.text)"
   ]
  },
  {
   "cell_type": "code",
   "execution_count": 40,
   "id": "2238ce46",
   "metadata": {},
   "outputs": [
    {
     "data": {
      "text/plain": [
       "dict_keys(['status', 'totalResults', 'articles'])"
      ]
     },
     "execution_count": 40,
     "metadata": {},
     "output_type": "execute_result"
    }
   ],
   "source": [
    "json_result.keys()"
   ]
  },
  {
   "cell_type": "code",
   "execution_count": 41,
   "id": "0eb6348d",
   "metadata": {},
   "outputs": [
    {
     "data": {
      "text/plain": [
       "100"
      ]
     },
     "execution_count": 41,
     "metadata": {},
     "output_type": "execute_result"
    }
   ],
   "source": [
    "len(json_result[\"articles\"])"
   ]
  },
  {
   "cell_type": "code",
   "execution_count": 25,
   "id": "38df8b31",
   "metadata": {},
   "outputs": [],
   "source": [
    "df = pd.DataFrame.from_dict(json_result[\"articles\"])"
   ]
  },
  {
   "cell_type": "code",
   "execution_count": 26,
   "id": "d325ac33",
   "metadata": {},
   "outputs": [
    {
     "data": {
      "text/html": [
       "<div>\n",
       "<style scoped>\n",
       "    .dataframe tbody tr th:only-of-type {\n",
       "        vertical-align: middle;\n",
       "    }\n",
       "\n",
       "    .dataframe tbody tr th {\n",
       "        vertical-align: top;\n",
       "    }\n",
       "\n",
       "    .dataframe thead th {\n",
       "        text-align: right;\n",
       "    }\n",
       "</style>\n",
       "<table border=\"1\" class=\"dataframe\">\n",
       "  <thead>\n",
       "    <tr style=\"text-align: right;\">\n",
       "      <th></th>\n",
       "      <th>source</th>\n",
       "      <th>author</th>\n",
       "      <th>title</th>\n",
       "      <th>description</th>\n",
       "      <th>url</th>\n",
       "      <th>urlToImage</th>\n",
       "      <th>publishedAt</th>\n",
       "      <th>content</th>\n",
       "    </tr>\n",
       "  </thead>\n",
       "  <tbody>\n",
       "    <tr>\n",
       "      <th>0</th>\n",
       "      <td>{'id': None, 'name': 'Investopedia'}</td>\n",
       "      <td>Staff Author</td>\n",
       "      <td>Strategic Investing in the Home Stretch of 2022</td>\n",
       "      <td>Shannon Saccocia, the CIO of SVB Private Bank,...</td>\n",
       "      <td>https://www.investopedia.com/the-express-podca...</td>\n",
       "      <td>https://www.investopedia.com/thmb/X73UR0U2tzIw...</td>\n",
       "      <td>2022-12-05T20:22:11Z</td>\n",
       "      <td>We are bringing you a conversation I had the p...</td>\n",
       "    </tr>\n",
       "    <tr>\n",
       "      <th>1</th>\n",
       "      <td>{'id': None, 'name': 'AppleInsider'}</td>\n",
       "      <td>news@appleinsider.com (Christine McKee)</td>\n",
       "      <td>This MacBook Pro 13-inch with 16GB RAM, 512GB ...</td>\n",
       "      <td>Save $900 on the upgraded 13-inch MacBook Pro ...</td>\n",
       "      <td>https://appleinsider.com/articles/22/12/05/thi...</td>\n",
       "      <td>https://photos5.appleinsider.com/gallery/51768...</td>\n",
       "      <td>2022-12-05T19:45:33Z</td>\n",
       "      <td>Save $900 today only.\\r\\nAppleInsider may earn...</td>\n",
       "    </tr>\n",
       "    <tr>\n",
       "      <th>2</th>\n",
       "      <td>{'id': None, 'name': 'MacRumors'}</td>\n",
       "      <td>Juli Clover</td>\n",
       "      <td>Can't Get an iPhone 14 Pro? Here's Why You Sho...</td>\n",
       "      <td>Due to production issues at Apple supplier fac...</td>\n",
       "      <td>https://www.macrumors.com/2022/12/05/iphone-15...</td>\n",
       "      <td>https://images.macrumors.com/t/MDsOXjytTKNtOwy...</td>\n",
       "      <td>2022-12-05T19:44:58Z</td>\n",
       "      <td>Due to production issues at Apple supplier fac...</td>\n",
       "    </tr>\n",
       "    <tr>\n",
       "      <th>3</th>\n",
       "      <td>{'id': None, 'name': 'Seeking Alpha'}</td>\n",
       "      <td>Envision Research</td>\n",
       "      <td>Apple Is Good, Even Better If Owned Via Berksh...</td>\n",
       "      <td>Owning Apple shares via Berkshire is even more...</td>\n",
       "      <td>https://seekingalpha.com/article/4562427-apple...</td>\n",
       "      <td>https://static.seekingalpha.com/cdn/s3/uploads...</td>\n",
       "      <td>2022-12-05T19:25:53Z</td>\n",
       "      <td>Hailshadow/iStock via Getty Images\\r\\nQ3 recap...</td>\n",
       "    </tr>\n",
       "    <tr>\n",
       "      <th>4</th>\n",
       "      <td>{'id': None, 'name': 'Seeking Alpha'}</td>\n",
       "      <td>Jake Speers</td>\n",
       "      <td>Meta Platforms: Metaverse A Weak Spot; Still A...</td>\n",
       "      <td>Although Meta has had a lot of bad press about...</td>\n",
       "      <td>https://seekingalpha.com/article/4562422-meta-...</td>\n",
       "      <td>https://static.seekingalpha.com/cdn/s3/uploads...</td>\n",
       "      <td>2022-12-05T19:22:34Z</td>\n",
       "      <td>Editor's note: Seeking Alpha is proud to welco...</td>\n",
       "    </tr>\n",
       "    <tr>\n",
       "      <th>...</th>\n",
       "      <td>...</td>\n",
       "      <td>...</td>\n",
       "      <td>...</td>\n",
       "      <td>...</td>\n",
       "      <td>...</td>\n",
       "      <td>...</td>\n",
       "      <td>...</td>\n",
       "      <td>...</td>\n",
       "    </tr>\n",
       "    <tr>\n",
       "      <th>95</th>\n",
       "      <td>{'id': None, 'name': 'Yahoo Entertainment'}</td>\n",
       "      <td>Rick Newman</td>\n",
       "      <td>Why some of our 'best company' picks didn't st...</td>\n",
       "      <td>Some of our prior best-company picks are still...</td>\n",
       "      <td>https://finance.yahoo.com/news/why-some-of-our...</td>\n",
       "      <td>https://s.yimg.com/ny/api/res/1.2/6_M_lUiDIj54...</td>\n",
       "      <td>2022-12-05T05:02:00Z</td>\n",
       "      <td>Our Company of the Year isnt necessarily the c...</td>\n",
       "    </tr>\n",
       "    <tr>\n",
       "      <th>96</th>\n",
       "      <td>{'id': None, 'name': 'Yahoo Entertainment'}</td>\n",
       "      <td>Brian Sozzi</td>\n",
       "      <td>Meet Yahoo Finance's 2022 Company of the Year:...</td>\n",
       "      <td>Costco wins Yahoo Finance's coveted 'Company o...</td>\n",
       "      <td>https://finance.yahoo.com/news/meet-yahoo-fina...</td>\n",
       "      <td>https://s.yimg.com/os/creatr-uploaded-images/2...</td>\n",
       "      <td>2022-12-05T05:01:35Z</td>\n",
       "      <td>In a year of rampant inflationnot seen since t...</td>\n",
       "    </tr>\n",
       "    <tr>\n",
       "      <th>97</th>\n",
       "      <td>{'id': None, 'name': 'Yahoo Entertainment'}</td>\n",
       "      <td>Dylan Croll</td>\n",
       "      <td>Costco stock: 5 takes from Wall Street analysts</td>\n",
       "      <td>Five Wall Street analysts give their hot takes...</td>\n",
       "      <td>https://finance.yahoo.com/news/costco-stock-5-...</td>\n",
       "      <td>https://s.yimg.com/ny/api/res/1.2/mEq.q4HTCxDX...</td>\n",
       "      <td>2022-12-05T05:01:27Z</td>\n",
       "      <td>No doubt that Costco (COST) has had a pretty g...</td>\n",
       "    </tr>\n",
       "    <tr>\n",
       "      <th>98</th>\n",
       "      <td>{'id': None, 'name': 'Yahoo Entertainment'}</td>\n",
       "      <td>Rick Newman</td>\n",
       "      <td>How we chose Costco as Yahoo Finance's Company...</td>\n",
       "      <td>The retail giant helped consumers battled infl...</td>\n",
       "      <td>https://finance.yahoo.com/news/how-we-chose-co...</td>\n",
       "      <td>https://s.yimg.com/ny/api/res/1.2/URbIPNmxh96X...</td>\n",
       "      <td>2022-12-05T05:01:00Z</td>\n",
       "      <td>To determine our Company of the Year, Yahoo Fi...</td>\n",
       "    </tr>\n",
       "    <tr>\n",
       "      <th>99</th>\n",
       "      <td>{'id': None, 'name': 'Biztoc.com'}</td>\n",
       "      <td>benzinga.com</td>\n",
       "      <td>Apple Supplier Reportedly Sees Full Production...</td>\n",
       "      <td>After some turbulent weeks, the COVID-hit Chin...</td>\n",
       "      <td>https://biztoc.com/x/24a4579a2e922936</td>\n",
       "      <td>https://c.biztoc.com/p/24a4579a2e922936/og.webp</td>\n",
       "      <td>2022-12-05T04:58:04Z</td>\n",
       "      <td>After some turbulent weeks, the COVID-hit Chin...</td>\n",
       "    </tr>\n",
       "  </tbody>\n",
       "</table>\n",
       "<p>100 rows × 8 columns</p>\n",
       "</div>"
      ],
      "text/plain": [
       "                                         source  \\\n",
       "0          {'id': None, 'name': 'Investopedia'}   \n",
       "1          {'id': None, 'name': 'AppleInsider'}   \n",
       "2             {'id': None, 'name': 'MacRumors'}   \n",
       "3         {'id': None, 'name': 'Seeking Alpha'}   \n",
       "4         {'id': None, 'name': 'Seeking Alpha'}   \n",
       "..                                          ...   \n",
       "95  {'id': None, 'name': 'Yahoo Entertainment'}   \n",
       "96  {'id': None, 'name': 'Yahoo Entertainment'}   \n",
       "97  {'id': None, 'name': 'Yahoo Entertainment'}   \n",
       "98  {'id': None, 'name': 'Yahoo Entertainment'}   \n",
       "99           {'id': None, 'name': 'Biztoc.com'}   \n",
       "\n",
       "                                     author  \\\n",
       "0                              Staff Author   \n",
       "1   news@appleinsider.com (Christine McKee)   \n",
       "2                               Juli Clover   \n",
       "3                         Envision Research   \n",
       "4                               Jake Speers   \n",
       "..                                      ...   \n",
       "95                              Rick Newman   \n",
       "96                              Brian Sozzi   \n",
       "97                              Dylan Croll   \n",
       "98                              Rick Newman   \n",
       "99                             benzinga.com   \n",
       "\n",
       "                                                title  \\\n",
       "0     Strategic Investing in the Home Stretch of 2022   \n",
       "1   This MacBook Pro 13-inch with 16GB RAM, 512GB ...   \n",
       "2   Can't Get an iPhone 14 Pro? Here's Why You Sho...   \n",
       "3   Apple Is Good, Even Better If Owned Via Berksh...   \n",
       "4   Meta Platforms: Metaverse A Weak Spot; Still A...   \n",
       "..                                                ...   \n",
       "95  Why some of our 'best company' picks didn't st...   \n",
       "96  Meet Yahoo Finance's 2022 Company of the Year:...   \n",
       "97    Costco stock: 5 takes from Wall Street analysts   \n",
       "98  How we chose Costco as Yahoo Finance's Company...   \n",
       "99  Apple Supplier Reportedly Sees Full Production...   \n",
       "\n",
       "                                          description  \\\n",
       "0   Shannon Saccocia, the CIO of SVB Private Bank,...   \n",
       "1   Save $900 on the upgraded 13-inch MacBook Pro ...   \n",
       "2   Due to production issues at Apple supplier fac...   \n",
       "3   Owning Apple shares via Berkshire is even more...   \n",
       "4   Although Meta has had a lot of bad press about...   \n",
       "..                                                ...   \n",
       "95  Some of our prior best-company picks are still...   \n",
       "96  Costco wins Yahoo Finance's coveted 'Company o...   \n",
       "97  Five Wall Street analysts give their hot takes...   \n",
       "98  The retail giant helped consumers battled infl...   \n",
       "99  After some turbulent weeks, the COVID-hit Chin...   \n",
       "\n",
       "                                                  url  \\\n",
       "0   https://www.investopedia.com/the-express-podca...   \n",
       "1   https://appleinsider.com/articles/22/12/05/thi...   \n",
       "2   https://www.macrumors.com/2022/12/05/iphone-15...   \n",
       "3   https://seekingalpha.com/article/4562427-apple...   \n",
       "4   https://seekingalpha.com/article/4562422-meta-...   \n",
       "..                                                ...   \n",
       "95  https://finance.yahoo.com/news/why-some-of-our...   \n",
       "96  https://finance.yahoo.com/news/meet-yahoo-fina...   \n",
       "97  https://finance.yahoo.com/news/costco-stock-5-...   \n",
       "98  https://finance.yahoo.com/news/how-we-chose-co...   \n",
       "99              https://biztoc.com/x/24a4579a2e922936   \n",
       "\n",
       "                                           urlToImage           publishedAt  \\\n",
       "0   https://www.investopedia.com/thmb/X73UR0U2tzIw...  2022-12-05T20:22:11Z   \n",
       "1   https://photos5.appleinsider.com/gallery/51768...  2022-12-05T19:45:33Z   \n",
       "2   https://images.macrumors.com/t/MDsOXjytTKNtOwy...  2022-12-05T19:44:58Z   \n",
       "3   https://static.seekingalpha.com/cdn/s3/uploads...  2022-12-05T19:25:53Z   \n",
       "4   https://static.seekingalpha.com/cdn/s3/uploads...  2022-12-05T19:22:34Z   \n",
       "..                                                ...                   ...   \n",
       "95  https://s.yimg.com/ny/api/res/1.2/6_M_lUiDIj54...  2022-12-05T05:02:00Z   \n",
       "96  https://s.yimg.com/os/creatr-uploaded-images/2...  2022-12-05T05:01:35Z   \n",
       "97  https://s.yimg.com/ny/api/res/1.2/mEq.q4HTCxDX...  2022-12-05T05:01:27Z   \n",
       "98  https://s.yimg.com/ny/api/res/1.2/URbIPNmxh96X...  2022-12-05T05:01:00Z   \n",
       "99    https://c.biztoc.com/p/24a4579a2e922936/og.webp  2022-12-05T04:58:04Z   \n",
       "\n",
       "                                              content  \n",
       "0   We are bringing you a conversation I had the p...  \n",
       "1   Save $900 today only.\\r\\nAppleInsider may earn...  \n",
       "2   Due to production issues at Apple supplier fac...  \n",
       "3   Hailshadow/iStock via Getty Images\\r\\nQ3 recap...  \n",
       "4   Editor's note: Seeking Alpha is proud to welco...  \n",
       "..                                                ...  \n",
       "95  Our Company of the Year isnt necessarily the c...  \n",
       "96  In a year of rampant inflationnot seen since t...  \n",
       "97  No doubt that Costco (COST) has had a pretty g...  \n",
       "98  To determine our Company of the Year, Yahoo Fi...  \n",
       "99  After some turbulent weeks, the COVID-hit Chin...  \n",
       "\n",
       "[100 rows x 8 columns]"
      ]
     },
     "execution_count": 26,
     "metadata": {},
     "output_type": "execute_result"
    }
   ],
   "source": [
    "df"
   ]
  },
  {
   "cell_type": "code",
   "execution_count": null,
   "id": "568aefaa",
   "metadata": {},
   "outputs": [],
   "source": [
    "57615ba120e6409c98d213eab48275fc"
   ]
  },
  {
   "cell_type": "code",
   "execution_count": 25,
   "id": "7ce5b36b",
   "metadata": {},
   "outputs": [],
   "source": [
    "class extract_news:\n",
    "    def __init__(self, api_key, ticker, from_date, to_date, filepath, base_url):\n",
    "        self.api_key = api_key\n",
    "        self.ticker = ticker\n",
    "        self.from_date = from_date\n",
    "        self.to_date = to_date\n",
    "        self.base_url = base_url\n",
    "        self.filepath = filepath\n",
    "    \n",
    "    def get_data(self):\n",
    "        result = requests.get(\"%s?api_token=%s&s=%s&from=%s&to=%s&limit=1000\"%(self.base_url, self.api_key, self.ticker, self.from_date, self.to_date))\n",
    "        if result:\n",
    "            print(\"Response - 200. Successful data extraction\")\n",
    "        else:\n",
    "            print(result)\n",
    "            print(\"API Limit Exceeded\")\n",
    "        return result\n",
    "    \n",
    "    def create_df(self, result):\n",
    "        json_result = json.loads(result.text)\n",
    "        df = pd.DataFrame.from_dict(json_result)\n",
    "        return df\n",
    "    \n",
    "    def write_to_csv(self, df):\n",
    "        print(self.filepath)\n",
    "        if not os.path.exists(self.filepath):\n",
    "            dirname = os.path.dirname(self.filepath)\n",
    "            os.makedirs(dirname)\n",
    "            \n",
    "        df.to_csv(self.filepath)\n",
    "        "
   ]
  },
  {
   "cell_type": "code",
   "execution_count": 26,
   "id": "fbc4413f",
   "metadata": {},
   "outputs": [
    {
     "name": "stdout",
     "output_type": "stream",
     "text": [
      "Response - 200. Successful data extraction\n"
     ]
    }
   ],
   "source": [
    "api_key = \"634b3c336bfff7.89514674\"\n",
    "ticker = \"MSFT.US\"\n",
    "current_date_str = str(datetime.date.today().month)+str(datetime.date.today().day)+str(datetime.date.today().year)\n",
    "filepath = \"../data/%s/%s/%s_sentiment_data.csv\"%(ticker.replace(\".US\",\"\"), current_date_str, ticker.replace(\".US\",\"\").lower())\n",
    "base_url = \"https://eodhistoricaldata.com/api/news\"\n",
    "\n",
    "extractor = extract_news(api_key, ticker, from_date, to_date, filepath, base_url)\n",
    "result = extractor.get_data()"
   ]
  },
  {
   "cell_type": "code",
   "execution_count": 29,
   "id": "d35892fd",
   "metadata": {},
   "outputs": [],
   "source": [
    "df = extractor.create_df(result)\n",
    "#extractor.write_to_csv(df)"
   ]
  }
 ],
 "metadata": {
  "kernelspec": {
   "display_name": "Python 3 (ipykernel)",
   "language": "python",
   "name": "python3"
  },
  "language_info": {
   "codemirror_mode": {
    "name": "ipython",
    "version": 3
   },
   "file_extension": ".py",
   "mimetype": "text/x-python",
   "name": "python",
   "nbconvert_exporter": "python",
   "pygments_lexer": "ipython3",
   "version": "3.9.12"
  }
 },
 "nbformat": 4,
 "nbformat_minor": 5
}
