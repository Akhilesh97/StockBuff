{
 "cells": [
  {
   "cell_type": "code",
   "execution_count": 15,
   "id": "cdcc0d5b",
   "metadata": {},
   "outputs": [],
   "source": [
    "import pandas as pd\n",
    "import yfinance as yf\n",
    "import datetime\n",
    "import os"
   ]
  },
  {
   "cell_type": "code",
   "execution_count": 17,
   "id": "0fe7a2d2",
   "metadata": {},
   "outputs": [
    {
     "name": "stdout",
     "output_type": "stream",
     "text": [
      "[*********************100%***********************]  4 of 4 completed\n",
      "../data/AMZN/11112022/amzn_stock_data.csv\n",
      "[*********************100%***********************]  4 of 4 completed\n",
      "../data/AAPL/11112022/aapl_stock_data.csv\n",
      "[*********************100%***********************]  4 of 4 completed\n",
      "../data/NFLX/11112022/nflx_stock_data.csv\n",
      "[*********************100%***********************]  4 of 4 completed\n",
      "../data/MSFT/11112022/msft_stock_data.csv\n"
     ]
    }
   ],
   "source": [
    "def fetch_data(ticker):      \n",
    "    data = yf.download(fang,start='2015-01-01', end='2020-01-01', progress=True)\n",
    "    return data\n",
    "\n",
    "\n",
    "def write_to_csv(df, filepath):\n",
    "    print(filepath)\n",
    "    if not os.path.exists(filepath):\n",
    "        dirname = os.path.dirname(filepath)\n",
    "        try:\n",
    "            os.makedirs(dirname)\n",
    "        except:\n",
    "            pass\n",
    "    df.to_csv(filepath)\n",
    "        \n",
    "fang = ['AMZN','AAPL','NFLX','MSFT']\n",
    "for ticker in fang:\n",
    "    current_date_str = str(datetime.date.today().month)+str(datetime.date.today().day)+str(datetime.date.today().year)\n",
    "    filepath = \"../data/%s/%s/%s_stock_data.csv\"%(ticker.replace(\".US\",\"\"), current_date_str, ticker.replace(\".US\",\"\").lower())\n",
    "    stock_data = fetch_data(fang)  \n",
    "    write_to_csv(stock_data, filepath)"
   ]
  }
 ],
 "metadata": {
  "kernelspec": {
   "display_name": "Python 3 (ipykernel)",
   "language": "python",
   "name": "python3"
  },
  "language_info": {
   "codemirror_mode": {
    "name": "ipython",
    "version": 3
   },
   "file_extension": ".py",
   "mimetype": "text/x-python",
   "name": "python",
   "nbconvert_exporter": "python",
   "pygments_lexer": "ipython3",
   "version": "3.9.12"
  }
 },
 "nbformat": 4,
 "nbformat_minor": 5
}
