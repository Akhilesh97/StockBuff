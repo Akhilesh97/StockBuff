{
 "cells": [
  {
   "cell_type": "code",
   "execution_count": 1,
   "id": "3d75bd69",
   "metadata": {},
   "outputs": [],
   "source": [
    "import pandas as pd"
   ]
  },
  {
   "cell_type": "code",
   "execution_count": 2,
   "id": "03d02b50",
   "metadata": {},
   "outputs": [],
   "source": [
    "df = pd.read_csv(\"../data/AAPL/11062022/aapl_sentiment_data.csv\")"
   ]
  },
  {
   "cell_type": "code",
   "execution_count": 10,
   "id": "55210dc9",
   "metadata": {},
   "outputs": [
    {
     "data": {
      "text/plain": [
       "['Jonathan Boyar, Boyar Asset Management Principal & Portfolio Manager, joins Yahoo Finance’s Kristin Myers to reflect on Warren Buffett’s annual letter.',\n",
       " 'Video Transcript',\n",
       " \"KRISTIN MYERS: Well, the Oracle of Omaha has issued his annual letter to shareholders, and the letter disclosed some of Berkshire's top holdings, which includes the electric car-maker, BYD, and also Yahoo Finance's parent company, Verizon. And the letter also reminded everyone to never bet against America. We have Jonathan Boyar here with us to break it down. Jonathan is principal and portfolio manager at Boyar Asset Management. So Jonathan, we have the letter. I'm wondering what some of your biggest takeaways were from it.\",\n",
       " \"JONATHAN BOYAR: First, thank you for having me on the show. It was an interesting letter, but, I mean, I think a lot of people probably expected too much out of the letter for him to express societal, you know, view on what's happened over the past year in terms of politics, et cetera. I mean, I think that's not his style. But I thought it was, you know, I was happy to see that he's committed to buying back shares at the right prices.\",\n",
       " \"Clearly, you know, I don't think there was anything, any major revelations. It would have been nice to hear his thoughts on a potential dividend at some point in time. But I think under his regime, that's not necessarily realistic.\",\n",
       " \"KRISTIN MYERS: Now I was surprised, kind of coming back to this point about folks expecting perhaps a little bit too much out of him this year, I think that's kind of the theme in general after 2020. A lot of folks are expecting a lot out of a lot of people, and out of a lot of companies after the year we had. And I was surprised to see that there wasn't too much reminiscing really over the year of 2020 and of the difficulties or perhaps even some business decisions that could have been made in the face of 2020. Were you surprised to see that as well?\",\n",
       " \"JONATHAN BOYAR: In terms of the business decisions, absolutely. I mean, Warren Buffett, there's no second guessing Warren Buffet. He's the greatest investor of all time. Everyone makes mistakes. And with the benefit of hindsight, obviously, he should have been more aggressive buying common stocks in March, April, May, June this year.\",\n",
       " 'Story continues',\n",
       " 'KRISTIN MYERS: Right.',\n",
       " \"JONATHAN BOYAR: Obviously, that's with the benefit of hindsight. I would have loved to have kind of just heard his thoughts on why he wasn't, because he has such a big cash hoard. Why wasn't he more aggressive? There were plenty of big cap stocks for him to have bought that could have moved the needle. And I just would have loved to hear his reasoning behind it.\",\n",
       " \"KRISTIN MYERS: Was there anything that surprised you out of this letter? The letter wasn't full of too many surprises, but I'm wondering if there was anything that really leapt out at you.\",\n",
       " \"JONATHAN BOYAR: I think that was probably it. It wasn't a surprise that he didn't talk about the dividend. I think he's way too tax sensitive to initiate one, although I think it probably would have been the right thing to do. So, no, there was no major surprises. I mean, except for the annual meeting being held virtually and in Los Angeles. But that doesn't really affect very many people. So it was pretty much status quo.\",\n",
       " \"But I would have liked to hear kind of his thoughts on where we go from here, especially with the potential rising interest rate environment. How do investors react to that? I mean, there's a lot, I mean, he's always been very generous with his investment wisdom and as an educator and a teacher, and it would've been nice to have a little bit more of that. But he's given us a lot through the years. So it's really hard to complain.\",\n",
       " 'KRISTIN MYERS: I want to drill down into some of those holdings in the letter. BYD kind of stuck out at me, the electric car-maker. We were talking a little bit earlier with Gareth Soloway, and he kind of raised a little bit of an alarm, or at least a little bit of a flag, because the EV space in general is one that has seen huge run-ups, and then also taken some pretty big legs lower. I was wondering what you made of that holding.',\n",
       " \"JONATHAN BOYAR: Well, I don't know the size of the holding relative, the exact size. But it's my guess, pretty small relative to the entire market value or the equity portfolio at Berkshire. So I wouldn't read into any individual holdings too much per se. But he's certainly gone out of his comfort zone with Snowflake, Amazon, Apple in the past couple years. So it's not terribly surprising that electric vehicles are on his mind. And it's certainly a theme to invest in. I don't know that much about that individual company to speak intelligently about it.\",\n",
       " \"KRISTIN MYERS: Just for everyone at home, I just pulled up the letter now. Berkshire does own 8.2% of the company. And of course, I think a lot of folks are going to be looking at it since there's a huge battle going on in the electric vehicle space, of course, with companies like Tesla and Nio, as well. I wanted to ask you as well about one other thing, which is the lack of details around succession. You know, we do have Warren Buffett, Charlie Munger getting on in years. And I think a lot of folks are looking to see what is going to be coming in the next couple of years. And yet, a lot of, we got no details on that point there.\",\n",
       " \"JONATHAN BOYAR: Well, you had a little bit of a hint of a detail. He said that the lady from Nebraska Furniture Mart retired early at 103. So maybe that's a hint on how long he intends to stay. And you know, it's a board decision about succession. He doesn't need to telegraph his hand. And I'm not so worried. I mean, I think what Warren Buffett has done, as well as Charlie Munger, is create a company that is so strong and so good that it can run without 'em.\",\n",
       " \"And that's what, not that they don't need capable management going forward, but I don't think it's a central, it should be a central theme. There'll never be another Warren Buffett. What he did is absolutely extraordinary. But what he's done is create a company that might not have one CEO running everything. It might be in different divisions, et cetera. But I don't think investors really should be as focused on that as what capital allocation will be like going forward.\",\n",
       " 'KRISTIN MYERS: And to that point, Mrs. B retired at 103. And in the letter, he said, as judged by him and Charlie, that was a quote, \"ridiculously premature age.\" 103 years old. Jonathan Boyar, principal and portfolio manager at Boyar Asset Management, thanks so much for joining.']"
      ]
     },
     "execution_count": 10,
     "metadata": {},
     "output_type": "execute_result"
    }
   ],
   "source": [
    "df[\"content\"].iloc[4].split(\"\\n\\n\")"
   ]
  }
 ],
 "metadata": {
  "kernelspec": {
   "display_name": "Python 3 (ipykernel)",
   "language": "python",
   "name": "python3"
  },
  "language_info": {
   "codemirror_mode": {
    "name": "ipython",
    "version": 3
   },
   "file_extension": ".py",
   "mimetype": "text/x-python",
   "name": "python",
   "nbconvert_exporter": "python",
   "pygments_lexer": "ipython3",
   "version": "3.9.12"
  }
 },
 "nbformat": 4,
 "nbformat_minor": 5
}
