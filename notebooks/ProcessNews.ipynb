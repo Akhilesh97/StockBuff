{
 "cells": [
  {
   "cell_type": "code",
   "execution_count": 1,
   "id": "86a109d3",
   "metadata": {},
   "outputs": [],
   "source": [
    "import pandas as pd"
   ]
  },
  {
   "cell_type": "code",
   "execution_count": 2,
   "id": "d95e944d",
   "metadata": {},
   "outputs": [],
   "source": [
    "df = pd.read_csv(\"../data/AAPL/11062022/aapl_sentiment_data.csv\")"
   ]
  },
  {
   "cell_type": "code",
   "execution_count": 51,
   "id": "32bb7cc5",
   "metadata": {},
   "outputs": [
    {
     "data": {
      "text/html": [
       "<div>\n",
       "<style scoped>\n",
       "    .dataframe tbody tr th:only-of-type {\n",
       "        vertical-align: middle;\n",
       "    }\n",
       "\n",
       "    .dataframe tbody tr th {\n",
       "        vertical-align: top;\n",
       "    }\n",
       "\n",
       "    .dataframe thead th {\n",
       "        text-align: right;\n",
       "    }\n",
       "</style>\n",
       "<table border=\"1\" class=\"dataframe\">\n",
       "  <thead>\n",
       "    <tr style=\"text-align: right;\">\n",
       "      <th></th>\n",
       "      <th>Unnamed: 0</th>\n",
       "      <th>date</th>\n",
       "      <th>title</th>\n",
       "      <th>content</th>\n",
       "      <th>link</th>\n",
       "      <th>symbols</th>\n",
       "      <th>tags</th>\n",
       "      <th>sentiment</th>\n",
       "    </tr>\n",
       "  </thead>\n",
       "  <tbody>\n",
       "    <tr>\n",
       "      <th>0</th>\n",
       "      <td>0</td>\n",
       "      <td>2021-03-01T23:04:15+00:00</td>\n",
       "      <td>SoftBank-Backed Mapbox Names New CEO to Go Aft...</td>\n",
       "      <td>(Bloomberg) -- Mapbox Inc., which makes mappin...</td>\n",
       "      <td>https://finance.yahoo.com/news/softbank-backed...</td>\n",
       "      <td>['AAPL.US', 'AMZN.US', 'AONE-UN.US', 'AONE.US'...</td>\n",
       "      <td>['BLOOMBERG', 'BY\\xa0INSTACART INC', 'CHIEF EX...</td>\n",
       "      <td>{'polarity': 0.974, 'neg': 0, 'neu': 0.934, 'p...</td>\n",
       "    </tr>\n",
       "    <tr>\n",
       "      <th>1</th>\n",
       "      <td>1</td>\n",
       "      <td>2021-03-01T22:05:12+00:00</td>\n",
       "      <td>Dow Jones Rips 600 Points Higher, Led By Boein...</td>\n",
       "      <td>The Dow Jones rallied sharply along with the o...</td>\n",
       "      <td>https://finance.yahoo.com/m/ae1cdff5-1fcf-3c5e...</td>\n",
       "      <td>['AAPL.US', 'BA.US', 'JNJ.US', 'SMG.US', 'ZM.US']</td>\n",
       "      <td>['APPLE STOCK', 'DOW JONES', 'NASDAQ', 'NASDAQ...</td>\n",
       "      <td>{'polarity': 0.494, 'neg': 0, 'neu': 0.887, 'p...</td>\n",
       "    </tr>\n",
       "    <tr>\n",
       "      <th>2</th>\n",
       "      <td>2</td>\n",
       "      <td>2021-03-01T20:20:54+00:00</td>\n",
       "      <td>Dow Jones Rises Over 700 Points As Indexes Rec...</td>\n",
       "      <td>The Dow Jones Industrial Average held strong g...</td>\n",
       "      <td>https://finance.yahoo.com/m/fa4aff04-adc3-352a...</td>\n",
       "      <td>['AAPL.US', 'BA.US', 'INTC.US', 'JNJ.US', 'TER...</td>\n",
       "      <td>['DOW JONES', 'STOCK MARKET', 'THE DOW', 'U.S....</td>\n",
       "      <td>{'polarity': 0.896, 'neg': 0, 'neu': 0.59, 'po...</td>\n",
       "    </tr>\n",
       "    <tr>\n",
       "      <th>3</th>\n",
       "      <td>3</td>\n",
       "      <td>2021-03-01T20:20:54+00:00</td>\n",
       "      <td>Dow Jones Rises Over 700 Points As Indexes Rec...</td>\n",
       "      <td>The Dow Jones Industrial Average held strong g...</td>\n",
       "      <td>https://finance.yahoo.com/m/fa4aff04-adc3-352a...</td>\n",
       "      <td>['AAPL.US', 'BA.US', 'INTC.US', 'JNJ.US', 'TER...</td>\n",
       "      <td>['DOW JONES', 'STOCK MARKET', 'THE DOW', 'U.S....</td>\n",
       "      <td>{'polarity': 0.896, 'neg': 0, 'neu': 0.59, 'po...</td>\n",
       "    </tr>\n",
       "    <tr>\n",
       "      <th>4</th>\n",
       "      <td>4</td>\n",
       "      <td>2021-03-01T19:01:11+00:00</td>\n",
       "      <td>Warren Buffett signals more stock buybacks com...</td>\n",
       "      <td>Jonathan Boyar, Boyar Asset Management Princip...</td>\n",
       "      <td>https://finance.yahoo.com/video/warren-buffett...</td>\n",
       "      <td>['AAPL.US', 'AXP.US', 'BAC-PP.US', 'BAC.US', '...</td>\n",
       "      <td>['BOYAR', 'JONATHAN BOYAR', 'KRISTIN MYERS', '...</td>\n",
       "      <td>{'polarity': 0.999, 'neg': 0.04, 'neu': 0.821,...</td>\n",
       "    </tr>\n",
       "    <tr>\n",
       "      <th>...</th>\n",
       "      <td>...</td>\n",
       "      <td>...</td>\n",
       "      <td>...</td>\n",
       "      <td>...</td>\n",
       "      <td>...</td>\n",
       "      <td>...</td>\n",
       "      <td>...</td>\n",
       "      <td>...</td>\n",
       "    </tr>\n",
       "    <tr>\n",
       "      <th>640</th>\n",
       "      <td>640</td>\n",
       "      <td>2018-01-31T12:55:00+00:00</td>\n",
       "      <td>Investor Expectations to Drive Momentum within...</td>\n",
       "      <td>NEW YORK, Jan.  31, 2018  (GLOBE NEWSWIRE) -- ...</td>\n",
       "      <td>https://www.globenewswire.com/news-release/201...</td>\n",
       "      <td>['AAPL.US', 'AVHI.US', 'FARM.US', 'GM.US', 'SG...</td>\n",
       "      <td>['FUNDAMENTAL MARKETS']</td>\n",
       "      <td>{'polarity': 0.995, 'neg': 0.009, 'neu': 0.937...</td>\n",
       "    </tr>\n",
       "    <tr>\n",
       "      <th>641</th>\n",
       "      <td>641</td>\n",
       "      <td>2017-11-30T14:27:00+00:00</td>\n",
       "      <td>BioTelemetry, Inc. Enters Agreement to Provide...</td>\n",
       "      <td>MALVERN, Pa., Nov.  30, 2017  (GLOBE NEWSWIRE)...</td>\n",
       "      <td>https://www.globenewswire.com/news-release/201...</td>\n",
       "      <td>['AAPL.US', 'BEAT.US']</td>\n",
       "      <td>['BIOTELEMETRY', 'INC', 'NASDAQ:BEAT']</td>\n",
       "      <td>{'polarity': 0.989, 'neg': 0.021, 'neu': 0.804...</td>\n",
       "    </tr>\n",
       "    <tr>\n",
       "      <th>642</th>\n",
       "      <td>642</td>\n",
       "      <td>2017-11-27T13:00:00+00:00</td>\n",
       "      <td>Factors of Influence in 2018, Key Indicators a...</td>\n",
       "      <td>NEW YORK, Nov.  27, 2017  (GLOBE NEWSWIRE) -- ...</td>\n",
       "      <td>https://www.globenewswire.com/news-release/201...</td>\n",
       "      <td>['AAPL.US', 'CSCO.US', 'GD.US', 'HPE.US', 'NVD...</td>\n",
       "      <td>['FUNDAMENTAL MARKETS']</td>\n",
       "      <td>{'polarity': 0.997, 'neg': 0.008, 'neu': 0.926...</td>\n",
       "    </tr>\n",
       "    <tr>\n",
       "      <th>643</th>\n",
       "      <td>643</td>\n",
       "      <td>2017-10-05T15:58:00+00:00</td>\n",
       "      <td>New Research: Key Drivers of Growth for Micros...</td>\n",
       "      <td>NEW YORK, Oct.  05, 2017  (GLOBE NEWSWIRE) -- ...</td>\n",
       "      <td>https://www.globenewswire.com/news-release/201...</td>\n",
       "      <td>['AAPL.US', 'AMZN.US', 'INTC.US', 'MSFT.US', '...</td>\n",
       "      <td>['FUNDAMENTAL MARKETS']</td>\n",
       "      <td>{'polarity': 0.997, 'neg': 0.008, 'neu': 0.925...</td>\n",
       "    </tr>\n",
       "    <tr>\n",
       "      <th>644</th>\n",
       "      <td>644</td>\n",
       "      <td>2016-02-19T15:05:00+00:00</td>\n",
       "      <td>Payment Data Systems Announces Apple Pay Suppo...</td>\n",
       "      <td>SAN ANTONIO, Feb.  19, 2016  (GLOBE NEWSWIRE) ...</td>\n",
       "      <td>https://www.globenewswire.com/news-release/201...</td>\n",
       "      <td>['AAPL.US', 'PYDS.US', 'USIO.US']</td>\n",
       "      <td>['AKIMBO', 'AKIMBO CARD', 'APPLE', 'APPLE PAY'...</td>\n",
       "      <td>{'polarity': 0.994, 'neg': 0.023, 'neu': 0.869...</td>\n",
       "    </tr>\n",
       "  </tbody>\n",
       "</table>\n",
       "<p>645 rows × 8 columns</p>\n",
       "</div>"
      ],
      "text/plain": [
       "     Unnamed: 0                       date  \\\n",
       "0             0  2021-03-01T23:04:15+00:00   \n",
       "1             1  2021-03-01T22:05:12+00:00   \n",
       "2             2  2021-03-01T20:20:54+00:00   \n",
       "3             3  2021-03-01T20:20:54+00:00   \n",
       "4             4  2021-03-01T19:01:11+00:00   \n",
       "..          ...                        ...   \n",
       "640         640  2018-01-31T12:55:00+00:00   \n",
       "641         641  2017-11-30T14:27:00+00:00   \n",
       "642         642  2017-11-27T13:00:00+00:00   \n",
       "643         643  2017-10-05T15:58:00+00:00   \n",
       "644         644  2016-02-19T15:05:00+00:00   \n",
       "\n",
       "                                                 title  \\\n",
       "0    SoftBank-Backed Mapbox Names New CEO to Go Aft...   \n",
       "1    Dow Jones Rips 600 Points Higher, Led By Boein...   \n",
       "2    Dow Jones Rises Over 700 Points As Indexes Rec...   \n",
       "3    Dow Jones Rises Over 700 Points As Indexes Rec...   \n",
       "4    Warren Buffett signals more stock buybacks com...   \n",
       "..                                                 ...   \n",
       "640  Investor Expectations to Drive Momentum within...   \n",
       "641  BioTelemetry, Inc. Enters Agreement to Provide...   \n",
       "642  Factors of Influence in 2018, Key Indicators a...   \n",
       "643  New Research: Key Drivers of Growth for Micros...   \n",
       "644  Payment Data Systems Announces Apple Pay Suppo...   \n",
       "\n",
       "                                               content  \\\n",
       "0    (Bloomberg) -- Mapbox Inc., which makes mappin...   \n",
       "1    The Dow Jones rallied sharply along with the o...   \n",
       "2    The Dow Jones Industrial Average held strong g...   \n",
       "3    The Dow Jones Industrial Average held strong g...   \n",
       "4    Jonathan Boyar, Boyar Asset Management Princip...   \n",
       "..                                                 ...   \n",
       "640  NEW YORK, Jan.  31, 2018  (GLOBE NEWSWIRE) -- ...   \n",
       "641  MALVERN, Pa., Nov.  30, 2017  (GLOBE NEWSWIRE)...   \n",
       "642  NEW YORK, Nov.  27, 2017  (GLOBE NEWSWIRE) -- ...   \n",
       "643  NEW YORK, Oct.  05, 2017  (GLOBE NEWSWIRE) -- ...   \n",
       "644  SAN ANTONIO, Feb.  19, 2016  (GLOBE NEWSWIRE) ...   \n",
       "\n",
       "                                                  link  \\\n",
       "0    https://finance.yahoo.com/news/softbank-backed...   \n",
       "1    https://finance.yahoo.com/m/ae1cdff5-1fcf-3c5e...   \n",
       "2    https://finance.yahoo.com/m/fa4aff04-adc3-352a...   \n",
       "3    https://finance.yahoo.com/m/fa4aff04-adc3-352a...   \n",
       "4    https://finance.yahoo.com/video/warren-buffett...   \n",
       "..                                                 ...   \n",
       "640  https://www.globenewswire.com/news-release/201...   \n",
       "641  https://www.globenewswire.com/news-release/201...   \n",
       "642  https://www.globenewswire.com/news-release/201...   \n",
       "643  https://www.globenewswire.com/news-release/201...   \n",
       "644  https://www.globenewswire.com/news-release/201...   \n",
       "\n",
       "                                               symbols  \\\n",
       "0    ['AAPL.US', 'AMZN.US', 'AONE-UN.US', 'AONE.US'...   \n",
       "1    ['AAPL.US', 'BA.US', 'JNJ.US', 'SMG.US', 'ZM.US']   \n",
       "2    ['AAPL.US', 'BA.US', 'INTC.US', 'JNJ.US', 'TER...   \n",
       "3    ['AAPL.US', 'BA.US', 'INTC.US', 'JNJ.US', 'TER...   \n",
       "4    ['AAPL.US', 'AXP.US', 'BAC-PP.US', 'BAC.US', '...   \n",
       "..                                                 ...   \n",
       "640  ['AAPL.US', 'AVHI.US', 'FARM.US', 'GM.US', 'SG...   \n",
       "641                             ['AAPL.US', 'BEAT.US']   \n",
       "642  ['AAPL.US', 'CSCO.US', 'GD.US', 'HPE.US', 'NVD...   \n",
       "643  ['AAPL.US', 'AMZN.US', 'INTC.US', 'MSFT.US', '...   \n",
       "644                  ['AAPL.US', 'PYDS.US', 'USIO.US']   \n",
       "\n",
       "                                                  tags  \\\n",
       "0    ['BLOOMBERG', 'BY\\xa0INSTACART INC', 'CHIEF EX...   \n",
       "1    ['APPLE STOCK', 'DOW JONES', 'NASDAQ', 'NASDAQ...   \n",
       "2    ['DOW JONES', 'STOCK MARKET', 'THE DOW', 'U.S....   \n",
       "3    ['DOW JONES', 'STOCK MARKET', 'THE DOW', 'U.S....   \n",
       "4    ['BOYAR', 'JONATHAN BOYAR', 'KRISTIN MYERS', '...   \n",
       "..                                                 ...   \n",
       "640                            ['FUNDAMENTAL MARKETS']   \n",
       "641             ['BIOTELEMETRY', 'INC', 'NASDAQ:BEAT']   \n",
       "642                            ['FUNDAMENTAL MARKETS']   \n",
       "643                            ['FUNDAMENTAL MARKETS']   \n",
       "644  ['AKIMBO', 'AKIMBO CARD', 'APPLE', 'APPLE PAY'...   \n",
       "\n",
       "                                             sentiment  \n",
       "0    {'polarity': 0.974, 'neg': 0, 'neu': 0.934, 'p...  \n",
       "1    {'polarity': 0.494, 'neg': 0, 'neu': 0.887, 'p...  \n",
       "2    {'polarity': 0.896, 'neg': 0, 'neu': 0.59, 'po...  \n",
       "3    {'polarity': 0.896, 'neg': 0, 'neu': 0.59, 'po...  \n",
       "4    {'polarity': 0.999, 'neg': 0.04, 'neu': 0.821,...  \n",
       "..                                                 ...  \n",
       "640  {'polarity': 0.995, 'neg': 0.009, 'neu': 0.937...  \n",
       "641  {'polarity': 0.989, 'neg': 0.021, 'neu': 0.804...  \n",
       "642  {'polarity': 0.997, 'neg': 0.008, 'neu': 0.926...  \n",
       "643  {'polarity': 0.997, 'neg': 0.008, 'neu': 0.925...  \n",
       "644  {'polarity': 0.994, 'neg': 0.023, 'neu': 0.869...  \n",
       "\n",
       "[645 rows x 8 columns]"
      ]
     },
     "execution_count": 51,
     "metadata": {},
     "output_type": "execute_result"
    }
   ],
   "source": [
    "df"
   ]
  },
  {
   "cell_type": "code",
   "execution_count": 26,
   "id": "3fbda71f",
   "metadata": {
    "scrolled": true
   },
   "outputs": [],
   "source": [
    "li1 = df[\"content\"].iloc[0].split(\"\\n\\n\")"
   ]
  },
  {
   "cell_type": "code",
   "execution_count": 36,
   "id": "85386516",
   "metadata": {},
   "outputs": [
    {
     "data": {
      "text/plain": [
       "'(Bloomberg) -- Mapbox Inc., which makes mapping tools used by Instacart Inc. and Snap Inc., appointed a new chief executive officer who will focus on expanding sales to automakers and logistics providers.\\n\\nThe SoftBank-backed company has promoted Peter Sirota, a former executive at Amazon.com Inc.’s Web Services business who joined Mapbox three years ago, to the top job. He replaces Eric Gundersen, who has been with the company since its start in 2010 and now becomes chief strategy officer and chairman of the board.\\n\\nThe San Francisco-based startup is taking on Alphabet Inc.’s Google Maps as it tries to establish itself as the center of car navigation systems. Mapbox inked a deal with BMW Group for in-car navigation last year. It’s looking to unveil deals with a half-dozen additional carmakers this year, said a person familiar with the plans.\\n\\nSirota will also need to eventually return the company to break-even. Earlier in its lifespan, Mapbox turned a modest profit by focusing on nonprofits and governments. The levels of investment required for the auto and logistics industries took Mapbox into the red in recent years. Still, the company has raised about $150 million from SoftBank and is valued at more than $1 billion, said the person familiar with the business who asked not to be identified because the information is private. Revenue is on track to exceed $100 million this year, the person said.\\n\\nA main competitor of Mapbox, as Sirota sees it, is the smartphone. About 700 million people interact with a Mapbox service each month, he said. Google Maps has more than 1 billion monthly users.\\n\\nMapbox can be better than a smartphone app by using information from a car’s sensors, Sirota said. For example, if a vehicle is running out of fuel, it can highlight the location of nearby gas stations. For electric cars, it can incorporate range data and plan routes based on the location of charging stations.\\n\\nOne of Sirota’s goals is to establish the car as the main input for directions before people form a lasting habit of pulling up Google or Apple maps on their phones. “Now is a very important moment,” Sirota said. “This opportunity has a window in it, so we have to get there fast.”\\n\\nStory continues\\n\\nFor more articles like this, please visit us at bloomberg.com\\n\\nSubscribe now to stay ahead with the most trusted business news source.\\n\\n©2021 Bloomberg L.P.'"
      ]
     },
     "execution_count": 36,
     "metadata": {},
     "output_type": "execute_result"
    }
   ],
   "source": [
    "df[\"content\"].iloc[0]"
   ]
  },
  {
   "cell_type": "code",
   "execution_count": 30,
   "id": "071bebc5",
   "metadata": {},
   "outputs": [],
   "source": [
    "li2 = eval(df[\"symbols\"].iloc[0])"
   ]
  },
  {
   "cell_type": "code",
   "execution_count": 35,
   "id": "bc7f162d",
   "metadata": {},
   "outputs": [
    {
     "data": {
      "text/plain": [
       "['AAPL.US',\n",
       " 'AMZN.US',\n",
       " 'AONE-UN.US',\n",
       " 'AONE.US',\n",
       " 'BAMXF.US',\n",
       " 'BMWYY.US',\n",
       " 'BYMOF.US',\n",
       " 'GOOG.US',\n",
       " 'GOOGL.US',\n",
       " 'IHSEF.US',\n",
       " 'SNAP.US']"
      ]
     },
     "execution_count": 35,
     "metadata": {},
     "output_type": "execute_result"
    }
   ],
   "source": [
    "li2"
   ]
  },
  {
   "cell_type": "code",
   "execution_count": 39,
   "id": "6ab1f0bb",
   "metadata": {},
   "outputs": [],
   "source": [
    "df_updated = df[[\"title\", \"symbols\", \"sentiment\"]]"
   ]
  },
  {
   "cell_type": "code",
   "execution_count": 46,
   "id": "9cb299fe",
   "metadata": {},
   "outputs": [],
   "source": [
    "def get_max_key(x):\n",
    "    dict_ = eval(x)\n",
    "    del dict_[\"polarity\"]\n",
    "    return max(dict_, key = dict_.get)"
   ]
  },
  {
   "cell_type": "code",
   "execution_count": 47,
   "id": "51af14ec",
   "metadata": {},
   "outputs": [
    {
     "name": "stderr",
     "output_type": "stream",
     "text": [
      "C:\\Users\\Akhilesh\\AppData\\Local\\Temp\\ipykernel_22600\\2688321255.py:1: SettingWithCopyWarning: \n",
      "A value is trying to be set on a copy of a slice from a DataFrame.\n",
      "Try using .loc[row_indexer,col_indexer] = value instead\n",
      "\n",
      "See the caveats in the documentation: https://pandas.pydata.org/pandas-docs/stable/user_guide/indexing.html#returning-a-view-versus-a-copy\n",
      "  df_updated[\"score\"] = df[\"sentiment\"].apply(lambda x: get_max_key(x))\n"
     ]
    }
   ],
   "source": [
    "df_updated[\"score\"] = df[\"sentiment\"].apply(lambda x: get_max_key(x))"
   ]
  },
  {
   "cell_type": "code",
   "execution_count": 55,
   "id": "2f23b3ee",
   "metadata": {},
   "outputs": [],
   "source": [
    "from transformers import AutoTokenizer, TFAutoModelForSequenceClassification"
   ]
  },
  {
   "cell_type": "code",
   "execution_count": 56,
   "id": "354f08f0",
   "metadata": {},
   "outputs": [
    {
     "data": {
      "application/vnd.jupyter.widget-view+json": {
       "model_id": "7013c54891894699b81ce51c3439c109",
       "version_major": 2,
       "version_minor": 0
      },
      "text/plain": [
       "Downloading:   0%|          | 0.00/438M [00:00<?, ?B/s]"
      ]
     },
     "metadata": {},
     "output_type": "display_data"
    },
    {
     "name": "stderr",
     "output_type": "stream",
     "text": [
      "All model checkpoint layers were used when initializing TFBertForSequenceClassification.\n",
      "\n",
      "Some layers of TFBertForSequenceClassification were not initialized from the model checkpoint at ProsusAI/finbert and are newly initialized: ['classifier']\n",
      "You should probably TRAIN this model on a down-stream task to be able to use it for predictions and inference.\n"
     ]
    }
   ],
   "source": [
    "tokenizer = AutoTokenizer.from_pretrained(\"ProsusAI/finbert\")\n",
    "\n",
    "model = TFAutoModelForSequenceClassification.from_pretrained(\"ProsusAI/finbert\")"
   ]
  },
  {
   "cell_type": "code",
   "execution_count": 58,
   "id": "718fcf35",
   "metadata": {},
   "outputs": [
    {
     "data": {
      "text/plain": [
       "'SoftBank-Backed Mapbox Names New CEO to Go After Carmakers'"
      ]
     },
     "execution_count": 58,
     "metadata": {},
     "output_type": "execute_result"
    }
   ],
   "source": [
    "df_updated[\"title\"].iloc[0]"
   ]
  },
  {
   "cell_type": "code",
   "execution_count": 62,
   "id": "47b82078",
   "metadata": {},
   "outputs": [
    {
     "ename": "ValueError",
     "evalue": "in user code:\n\n    File \"C:\\Users\\Akhilesh\\Anaconda3\\lib\\site-packages\\keras\\engine\\training.py\", line 2041, in predict_function  *\n        return step_function(self, iterator)\n    File \"C:\\Users\\Akhilesh\\Anaconda3\\lib\\site-packages\\keras\\engine\\training.py\", line 2027, in step_function  **\n        outputs = model.distribute_strategy.run(run_step, args=(data,))\n    File \"C:\\Users\\Akhilesh\\Anaconda3\\lib\\site-packages\\keras\\engine\\training.py\", line 2015, in run_step  **\n        outputs = model.predict_step(data)\n    File \"C:\\Users\\Akhilesh\\Anaconda3\\lib\\site-packages\\keras\\engine\\training.py\", line 1983, in predict_step\n        return self(x, training=False)\n    File \"C:\\Users\\Akhilesh\\Anaconda3\\lib\\site-packages\\keras\\utils\\traceback_utils.py\", line 70, in error_handler\n        raise e.with_traceback(filtered_tb) from None\n    File \"C:\\Users\\Akhilesh\\AppData\\Local\\Temp\\__autograph_generated_filevz412jni.py\", line 36, in tf__run_call_with_unpacked_inputs\n        retval_ = ag__.converted_call(ag__.ld(func), (ag__.ld(self),), dict(**ag__.ld(unpacked_inputs)), fscope)\n    File \"C:\\Users\\Akhilesh\\AppData\\Local\\Temp\\__autograph_generated_filez6jfnzax.py\", line 16, in tf__call\n        outputs = ag__.converted_call(ag__.ld(self).bert, (), dict(input_ids=ag__.ld(input_ids), attention_mask=ag__.ld(attention_mask), token_type_ids=ag__.ld(token_type_ids), position_ids=ag__.ld(position_ids), head_mask=ag__.ld(head_mask), inputs_embeds=ag__.ld(inputs_embeds), output_attentions=ag__.ld(output_attentions), output_hidden_states=ag__.ld(output_hidden_states), return_dict=ag__.ld(return_dict), training=ag__.ld(training)), fscope)\n    File \"C:\\Users\\Akhilesh\\AppData\\Local\\Temp\\__autograph_generated_filevz412jni.py\", line 36, in tf__run_call_with_unpacked_inputs\n        retval_ = ag__.converted_call(ag__.ld(func), (ag__.ld(self),), dict(**ag__.ld(unpacked_inputs)), fscope)\n    File \"C:\\Users\\Akhilesh\\AppData\\Local\\Temp\\__autograph_generated_file8igkmrmt.py\", line 75, in tf__call\n        (batch_size, seq_length) = ag__.ld(input_shape)\n\n    ValueError: Exception encountered when calling layer \"tf_bert_for_sequence_classification\" \"                 f\"(type TFBertForSequenceClassification).\n    \n    in user code:\n    \n        File \"C:\\Users\\Akhilesh\\Anaconda3\\lib\\site-packages\\transformers\\modeling_tf_utils.py\", line 1652, in run_call_with_unpacked_inputs  *\n            return func(self, **unpacked_inputs)\n        File \"C:\\Users\\Akhilesh\\Anaconda3\\lib\\site-packages\\transformers\\models\\bert\\modeling_tf_bert.py\", line 1665, in call  *\n            outputs = self.bert(\n        File \"C:\\Users\\Akhilesh\\Anaconda3\\lib\\site-packages\\keras\\utils\\traceback_utils.py\", line 70, in error_handler  **\n            raise e.with_traceback(filtered_tb) from None\n        File \"C:\\Users\\Akhilesh\\AppData\\Local\\Temp\\__autograph_generated_filevz412jni.py\", line 36, in tf__run_call_with_unpacked_inputs\n            retval_ = ag__.converted_call(ag__.ld(func), (ag__.ld(self),), dict(**ag__.ld(unpacked_inputs)), fscope)\n        File \"C:\\Users\\Akhilesh\\AppData\\Local\\Temp\\__autograph_generated_file8igkmrmt.py\", line 75, in tf__call\n            (batch_size, seq_length) = ag__.ld(input_shape)\n    \n        ValueError: Exception encountered when calling layer \"bert\" \"                 f\"(type TFBertMainLayer).\n        \n        in user code:\n        \n            File \"C:\\Users\\Akhilesh\\Anaconda3\\lib\\site-packages\\transformers\\modeling_tf_utils.py\", line 1652, in run_call_with_unpacked_inputs  *\n                return func(self, **unpacked_inputs)\n            File \"C:\\Users\\Akhilesh\\Anaconda3\\lib\\site-packages\\transformers\\models\\bert\\modeling_tf_bert.py\", line 777, in call  *\n                batch_size, seq_length = input_shape\n        \n            ValueError: not enough values to unpack (expected 2, got 1)\n        \n        \n        Call arguments received by layer \"bert\" \"                 f\"(type TFBertMainLayer):\n          • self=tf.Tensor(shape=(None,), dtype=string)\n          • input_ids=None\n          • attention_mask=None\n          • token_type_ids=None\n          • position_ids=None\n          • head_mask=None\n          • inputs_embeds=None\n          • encoder_hidden_states=None\n          • encoder_attention_mask=None\n          • past_key_values=None\n          • use_cache=None\n          • output_attentions=False\n          • output_hidden_states=False\n          • return_dict=True\n          • training=False\n    \n    \n    Call arguments received by layer \"tf_bert_for_sequence_classification\" \"                 f\"(type TFBertForSequenceClassification):\n      • self=tf.Tensor(shape=(None,), dtype=string)\n      • input_ids=None\n      • attention_mask=None\n      • token_type_ids=None\n      • position_ids=None\n      • head_mask=None\n      • inputs_embeds=None\n      • output_attentions=None\n      • output_hidden_states=None\n      • return_dict=None\n      • labels=None\n      • training=False\n",
     "output_type": "error",
     "traceback": [
      "\u001b[1;31m---------------------------------------------------------------------------\u001b[0m",
      "\u001b[1;31mValueError\u001b[0m                                Traceback (most recent call last)",
      "Input \u001b[1;32mIn [62]\u001b[0m, in \u001b[0;36m<cell line: 1>\u001b[1;34m()\u001b[0m\n\u001b[1;32m----> 1\u001b[0m \u001b[43mmodel\u001b[49m\u001b[38;5;241;43m.\u001b[39;49m\u001b[43mpredict\u001b[49m\u001b[43m(\u001b[49m\u001b[43m[\u001b[49m\u001b[38;5;124;43m\"\u001b[39;49m\u001b[38;5;124;43mHi\u001b[39;49m\u001b[38;5;124;43m\"\u001b[39;49m\u001b[43m,\u001b[49m\u001b[38;5;124;43m\"\u001b[39;49m\u001b[38;5;124;43m\"\u001b[39;49m\u001b[43m,\u001b[49m\u001b[38;5;124;43m\"\u001b[39;49m\u001b[38;5;124;43m\"\u001b[39;49m\u001b[43m]\u001b[49m\u001b[43m)\u001b[49m\n",
      "File \u001b[1;32m~\\Anaconda3\\lib\\site-packages\\keras\\utils\\traceback_utils.py:70\u001b[0m, in \u001b[0;36mfilter_traceback.<locals>.error_handler\u001b[1;34m(*args, **kwargs)\u001b[0m\n\u001b[0;32m     67\u001b[0m     filtered_tb \u001b[38;5;241m=\u001b[39m _process_traceback_frames(e\u001b[38;5;241m.\u001b[39m__traceback__)\n\u001b[0;32m     68\u001b[0m     \u001b[38;5;66;03m# To get the full stack trace, call:\u001b[39;00m\n\u001b[0;32m     69\u001b[0m     \u001b[38;5;66;03m# `tf.debugging.disable_traceback_filtering()`\u001b[39;00m\n\u001b[1;32m---> 70\u001b[0m     \u001b[38;5;28;01mraise\u001b[39;00m e\u001b[38;5;241m.\u001b[39mwith_traceback(filtered_tb) \u001b[38;5;28;01mfrom\u001b[39;00m \u001b[38;5;28mNone\u001b[39m\n\u001b[0;32m     71\u001b[0m \u001b[38;5;28;01mfinally\u001b[39;00m:\n\u001b[0;32m     72\u001b[0m     \u001b[38;5;28;01mdel\u001b[39;00m filtered_tb\n",
      "File \u001b[1;32m~\\AppData\\Local\\Temp\\__autograph_generated_filewrzf7_7w.py:15\u001b[0m, in \u001b[0;36mouter_factory.<locals>.inner_factory.<locals>.tf__predict_function\u001b[1;34m(iterator)\u001b[0m\n\u001b[0;32m     13\u001b[0m \u001b[38;5;28;01mtry\u001b[39;00m:\n\u001b[0;32m     14\u001b[0m     do_return \u001b[38;5;241m=\u001b[39m \u001b[38;5;28;01mTrue\u001b[39;00m\n\u001b[1;32m---> 15\u001b[0m     retval_ \u001b[38;5;241m=\u001b[39m ag__\u001b[38;5;241m.\u001b[39mconverted_call(ag__\u001b[38;5;241m.\u001b[39mld(step_function), (ag__\u001b[38;5;241m.\u001b[39mld(\u001b[38;5;28mself\u001b[39m), ag__\u001b[38;5;241m.\u001b[39mld(iterator)), \u001b[38;5;28;01mNone\u001b[39;00m, fscope)\n\u001b[0;32m     16\u001b[0m \u001b[38;5;28;01mexcept\u001b[39;00m:\n\u001b[0;32m     17\u001b[0m     do_return \u001b[38;5;241m=\u001b[39m \u001b[38;5;28;01mFalse\u001b[39;00m\n",
      "File \u001b[1;32m~\\AppData\\Local\\Temp\\__autograph_generated_filevz412jni.py:36\u001b[0m, in \u001b[0;36mouter_factory.<locals>.inner_factory.<locals>.tf__run_call_with_unpacked_inputs\u001b[1;34m(self, *args, **kwargs)\u001b[0m\n\u001b[0;32m     34\u001b[0m \u001b[38;5;28;01mtry\u001b[39;00m:\n\u001b[0;32m     35\u001b[0m     do_return \u001b[38;5;241m=\u001b[39m \u001b[38;5;28;01mTrue\u001b[39;00m\n\u001b[1;32m---> 36\u001b[0m     retval_ \u001b[38;5;241m=\u001b[39m ag__\u001b[38;5;241m.\u001b[39mconverted_call(ag__\u001b[38;5;241m.\u001b[39mld(func), (ag__\u001b[38;5;241m.\u001b[39mld(\u001b[38;5;28mself\u001b[39m),), \u001b[38;5;28mdict\u001b[39m(\u001b[38;5;241m*\u001b[39m\u001b[38;5;241m*\u001b[39mag__\u001b[38;5;241m.\u001b[39mld(unpacked_inputs)), fscope)\n\u001b[0;32m     37\u001b[0m \u001b[38;5;28;01mexcept\u001b[39;00m:\n\u001b[0;32m     38\u001b[0m     do_return \u001b[38;5;241m=\u001b[39m \u001b[38;5;28;01mFalse\u001b[39;00m\n",
      "File \u001b[1;32m~\\AppData\\Local\\Temp\\__autograph_generated_filez6jfnzax.py:16\u001b[0m, in \u001b[0;36mouter_factory.<locals>.inner_factory.<locals>.tf__call\u001b[1;34m(self, input_ids, attention_mask, token_type_ids, position_ids, head_mask, inputs_embeds, output_attentions, output_hidden_states, return_dict, labels, training)\u001b[0m\n\u001b[0;32m     14\u001b[0m do_return \u001b[38;5;241m=\u001b[39m \u001b[38;5;28;01mFalse\u001b[39;00m\n\u001b[0;32m     15\u001b[0m retval_ \u001b[38;5;241m=\u001b[39m ag__\u001b[38;5;241m.\u001b[39mUndefinedReturnValue()\n\u001b[1;32m---> 16\u001b[0m outputs \u001b[38;5;241m=\u001b[39m ag__\u001b[38;5;241m.\u001b[39mconverted_call(ag__\u001b[38;5;241m.\u001b[39mld(\u001b[38;5;28mself\u001b[39m)\u001b[38;5;241m.\u001b[39mbert, (), \u001b[38;5;28mdict\u001b[39m(input_ids\u001b[38;5;241m=\u001b[39mag__\u001b[38;5;241m.\u001b[39mld(input_ids), attention_mask\u001b[38;5;241m=\u001b[39mag__\u001b[38;5;241m.\u001b[39mld(attention_mask), token_type_ids\u001b[38;5;241m=\u001b[39mag__\u001b[38;5;241m.\u001b[39mld(token_type_ids), position_ids\u001b[38;5;241m=\u001b[39mag__\u001b[38;5;241m.\u001b[39mld(position_ids), head_mask\u001b[38;5;241m=\u001b[39mag__\u001b[38;5;241m.\u001b[39mld(head_mask), inputs_embeds\u001b[38;5;241m=\u001b[39mag__\u001b[38;5;241m.\u001b[39mld(inputs_embeds), output_attentions\u001b[38;5;241m=\u001b[39mag__\u001b[38;5;241m.\u001b[39mld(output_attentions), output_hidden_states\u001b[38;5;241m=\u001b[39mag__\u001b[38;5;241m.\u001b[39mld(output_hidden_states), return_dict\u001b[38;5;241m=\u001b[39mag__\u001b[38;5;241m.\u001b[39mld(return_dict), training\u001b[38;5;241m=\u001b[39mag__\u001b[38;5;241m.\u001b[39mld(training)), fscope)\n\u001b[0;32m     17\u001b[0m pooled_output \u001b[38;5;241m=\u001b[39m ag__\u001b[38;5;241m.\u001b[39mld(outputs)[\u001b[38;5;241m1\u001b[39m]\n\u001b[0;32m     18\u001b[0m pooled_output \u001b[38;5;241m=\u001b[39m ag__\u001b[38;5;241m.\u001b[39mconverted_call(ag__\u001b[38;5;241m.\u001b[39mld(\u001b[38;5;28mself\u001b[39m)\u001b[38;5;241m.\u001b[39mdropout, (), \u001b[38;5;28mdict\u001b[39m(inputs\u001b[38;5;241m=\u001b[39mag__\u001b[38;5;241m.\u001b[39mld(pooled_output), training\u001b[38;5;241m=\u001b[39mag__\u001b[38;5;241m.\u001b[39mld(training)), fscope)\n",
      "File \u001b[1;32m~\\AppData\\Local\\Temp\\__autograph_generated_filevz412jni.py:36\u001b[0m, in \u001b[0;36mouter_factory.<locals>.inner_factory.<locals>.tf__run_call_with_unpacked_inputs\u001b[1;34m(self, *args, **kwargs)\u001b[0m\n\u001b[0;32m     34\u001b[0m \u001b[38;5;28;01mtry\u001b[39;00m:\n\u001b[0;32m     35\u001b[0m     do_return \u001b[38;5;241m=\u001b[39m \u001b[38;5;28;01mTrue\u001b[39;00m\n\u001b[1;32m---> 36\u001b[0m     retval_ \u001b[38;5;241m=\u001b[39m ag__\u001b[38;5;241m.\u001b[39mconverted_call(ag__\u001b[38;5;241m.\u001b[39mld(func), (ag__\u001b[38;5;241m.\u001b[39mld(\u001b[38;5;28mself\u001b[39m),), \u001b[38;5;28mdict\u001b[39m(\u001b[38;5;241m*\u001b[39m\u001b[38;5;241m*\u001b[39mag__\u001b[38;5;241m.\u001b[39mld(unpacked_inputs)), fscope)\n\u001b[0;32m     37\u001b[0m \u001b[38;5;28;01mexcept\u001b[39;00m:\n\u001b[0;32m     38\u001b[0m     do_return \u001b[38;5;241m=\u001b[39m \u001b[38;5;28;01mFalse\u001b[39;00m\n",
      "File \u001b[1;32m~\\AppData\\Local\\Temp\\__autograph_generated_file8igkmrmt.py:75\u001b[0m, in \u001b[0;36mouter_factory.<locals>.inner_factory.<locals>.tf__call\u001b[1;34m(self, input_ids, attention_mask, token_type_ids, position_ids, head_mask, inputs_embeds, encoder_hidden_states, encoder_attention_mask, past_key_values, use_cache, output_attentions, output_hidden_states, return_dict, training)\u001b[0m\n\u001b[0;32m     73\u001b[0m input_shape \u001b[38;5;241m=\u001b[39m ag__\u001b[38;5;241m.\u001b[39mUndefined(\u001b[38;5;124m'\u001b[39m\u001b[38;5;124minput_shape\u001b[39m\u001b[38;5;124m'\u001b[39m)\n\u001b[0;32m     74\u001b[0m ag__\u001b[38;5;241m.\u001b[39mif_stmt(ag__\u001b[38;5;241m.\u001b[39mand_(\u001b[38;5;28;01mlambda\u001b[39;00m : ag__\u001b[38;5;241m.\u001b[39mld(input_ids) \u001b[38;5;129;01mis\u001b[39;00m \u001b[38;5;129;01mnot\u001b[39;00m \u001b[38;5;28;01mNone\u001b[39;00m, \u001b[38;5;28;01mlambda\u001b[39;00m : ag__\u001b[38;5;241m.\u001b[39mld(inputs_embeds) \u001b[38;5;129;01mis\u001b[39;00m \u001b[38;5;129;01mnot\u001b[39;00m \u001b[38;5;28;01mNone\u001b[39;00m), if_body_3, else_body_3, get_state_3, set_state_3, (\u001b[38;5;124m'\u001b[39m\u001b[38;5;124minput_shape\u001b[39m\u001b[38;5;124m'\u001b[39m,), \u001b[38;5;241m1\u001b[39m)\n\u001b[1;32m---> 75\u001b[0m (batch_size, seq_length) \u001b[38;5;241m=\u001b[39m ag__\u001b[38;5;241m.\u001b[39mld(input_shape)\n\u001b[0;32m     77\u001b[0m \u001b[38;5;28;01mdef\u001b[39;00m \u001b[38;5;21mget_state_4\u001b[39m():\n\u001b[0;32m     78\u001b[0m     \u001b[38;5;28;01mreturn\u001b[39;00m (past_key_values, past_key_values_length)\n",
      "\u001b[1;31mValueError\u001b[0m: in user code:\n\n    File \"C:\\Users\\Akhilesh\\Anaconda3\\lib\\site-packages\\keras\\engine\\training.py\", line 2041, in predict_function  *\n        return step_function(self, iterator)\n    File \"C:\\Users\\Akhilesh\\Anaconda3\\lib\\site-packages\\keras\\engine\\training.py\", line 2027, in step_function  **\n        outputs = model.distribute_strategy.run(run_step, args=(data,))\n    File \"C:\\Users\\Akhilesh\\Anaconda3\\lib\\site-packages\\keras\\engine\\training.py\", line 2015, in run_step  **\n        outputs = model.predict_step(data)\n    File \"C:\\Users\\Akhilesh\\Anaconda3\\lib\\site-packages\\keras\\engine\\training.py\", line 1983, in predict_step\n        return self(x, training=False)\n    File \"C:\\Users\\Akhilesh\\Anaconda3\\lib\\site-packages\\keras\\utils\\traceback_utils.py\", line 70, in error_handler\n        raise e.with_traceback(filtered_tb) from None\n    File \"C:\\Users\\Akhilesh\\AppData\\Local\\Temp\\__autograph_generated_filevz412jni.py\", line 36, in tf__run_call_with_unpacked_inputs\n        retval_ = ag__.converted_call(ag__.ld(func), (ag__.ld(self),), dict(**ag__.ld(unpacked_inputs)), fscope)\n    File \"C:\\Users\\Akhilesh\\AppData\\Local\\Temp\\__autograph_generated_filez6jfnzax.py\", line 16, in tf__call\n        outputs = ag__.converted_call(ag__.ld(self).bert, (), dict(input_ids=ag__.ld(input_ids), attention_mask=ag__.ld(attention_mask), token_type_ids=ag__.ld(token_type_ids), position_ids=ag__.ld(position_ids), head_mask=ag__.ld(head_mask), inputs_embeds=ag__.ld(inputs_embeds), output_attentions=ag__.ld(output_attentions), output_hidden_states=ag__.ld(output_hidden_states), return_dict=ag__.ld(return_dict), training=ag__.ld(training)), fscope)\n    File \"C:\\Users\\Akhilesh\\AppData\\Local\\Temp\\__autograph_generated_filevz412jni.py\", line 36, in tf__run_call_with_unpacked_inputs\n        retval_ = ag__.converted_call(ag__.ld(func), (ag__.ld(self),), dict(**ag__.ld(unpacked_inputs)), fscope)\n    File \"C:\\Users\\Akhilesh\\AppData\\Local\\Temp\\__autograph_generated_file8igkmrmt.py\", line 75, in tf__call\n        (batch_size, seq_length) = ag__.ld(input_shape)\n\n    ValueError: Exception encountered when calling layer \"tf_bert_for_sequence_classification\" \"                 f\"(type TFBertForSequenceClassification).\n    \n    in user code:\n    \n        File \"C:\\Users\\Akhilesh\\Anaconda3\\lib\\site-packages\\transformers\\modeling_tf_utils.py\", line 1652, in run_call_with_unpacked_inputs  *\n            return func(self, **unpacked_inputs)\n        File \"C:\\Users\\Akhilesh\\Anaconda3\\lib\\site-packages\\transformers\\models\\bert\\modeling_tf_bert.py\", line 1665, in call  *\n            outputs = self.bert(\n        File \"C:\\Users\\Akhilesh\\Anaconda3\\lib\\site-packages\\keras\\utils\\traceback_utils.py\", line 70, in error_handler  **\n            raise e.with_traceback(filtered_tb) from None\n        File \"C:\\Users\\Akhilesh\\AppData\\Local\\Temp\\__autograph_generated_filevz412jni.py\", line 36, in tf__run_call_with_unpacked_inputs\n            retval_ = ag__.converted_call(ag__.ld(func), (ag__.ld(self),), dict(**ag__.ld(unpacked_inputs)), fscope)\n        File \"C:\\Users\\Akhilesh\\AppData\\Local\\Temp\\__autograph_generated_file8igkmrmt.py\", line 75, in tf__call\n            (batch_size, seq_length) = ag__.ld(input_shape)\n    \n        ValueError: Exception encountered when calling layer \"bert\" \"                 f\"(type TFBertMainLayer).\n        \n        in user code:\n        \n            File \"C:\\Users\\Akhilesh\\Anaconda3\\lib\\site-packages\\transformers\\modeling_tf_utils.py\", line 1652, in run_call_with_unpacked_inputs  *\n                return func(self, **unpacked_inputs)\n            File \"C:\\Users\\Akhilesh\\Anaconda3\\lib\\site-packages\\transformers\\models\\bert\\modeling_tf_bert.py\", line 777, in call  *\n                batch_size, seq_length = input_shape\n        \n            ValueError: not enough values to unpack (expected 2, got 1)\n        \n        \n        Call arguments received by layer \"bert\" \"                 f\"(type TFBertMainLayer):\n          • self=tf.Tensor(shape=(None,), dtype=string)\n          • input_ids=None\n          • attention_mask=None\n          • token_type_ids=None\n          • position_ids=None\n          • head_mask=None\n          • inputs_embeds=None\n          • encoder_hidden_states=None\n          • encoder_attention_mask=None\n          • past_key_values=None\n          • use_cache=None\n          • output_attentions=False\n          • output_hidden_states=False\n          • return_dict=True\n          • training=False\n    \n    \n    Call arguments received by layer \"tf_bert_for_sequence_classification\" \"                 f\"(type TFBertForSequenceClassification):\n      • self=tf.Tensor(shape=(None,), dtype=string)\n      • input_ids=None\n      • attention_mask=None\n      • token_type_ids=None\n      • position_ids=None\n      • head_mask=None\n      • inputs_embeds=None\n      • output_attentions=None\n      • output_hidden_states=None\n      • return_dict=None\n      • labels=None\n      • training=False\n"
     ]
    }
   ],
   "source": [
    "model.predict([\"Hi\",\"\",\"\"])"
   ]
  },
  {
   "cell_type": "code",
   "execution_count": 74,
   "id": "cce6927b",
   "metadata": {},
   "outputs": [
    {
     "name": "stdout",
     "output_type": "stream",
     "text": [
      "Dow Jones Rises Over 700 Points As Indexes Recover Some Of Last Week's Sell-Off; These Dow Stocks Trade Near Buy Zones\n"
     ]
    },
    {
     "name": "stderr",
     "output_type": "stream",
     "text": [
      "All model checkpoint layers were used when initializing TFBertForSequenceClassification.\n",
      "\n",
      "Some layers of TFBertForSequenceClassification were not initialized from the model checkpoint at ProsusAI/finbert and are newly initialized: ['classifier']\n",
      "You should probably TRAIN this model on a down-stream task to be able to use it for predictions and inference.\n"
     ]
    },
    {
     "data": {
      "text/plain": [
       "[{'label': 'neutral', 'score': 0.40731528401374817}]"
      ]
     },
     "execution_count": 74,
     "metadata": {},
     "output_type": "execute_result"
    }
   ],
   "source": [
    "from transformers import pipeline\n",
    "\n",
    "print(df_updated[\"title\"].iloc[3])\n",
    "classifier = pipeline(\"sentiment-analysis\", model = \"ProsusAI/finbert\")\n",
    "classifier(df_updated[\"title\"].iloc[3])\n",
    "##  [{'label': 'unacceptable', 'score': 0.95}]\n"
   ]
  }
 ],
 "metadata": {
  "kernelspec": {
   "display_name": "Python 3 (ipykernel)",
   "language": "python",
   "name": "python3"
  },
  "language_info": {
   "codemirror_mode": {
    "name": "ipython",
    "version": 3
   },
   "file_extension": ".py",
   "mimetype": "text/x-python",
   "name": "python",
   "nbconvert_exporter": "python",
   "pygments_lexer": "ipython3",
   "version": "3.9.12"
  }
 },
 "nbformat": 4,
 "nbformat_minor": 5
}
