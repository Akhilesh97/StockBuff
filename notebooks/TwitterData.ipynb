{
 "cells": [
  {
   "cell_type": "markdown",
   "id": "05168ce0",
   "metadata": {},
   "source": [
    "# Extract Twitter Feed between two dates for a company"
   ]
  },
  {
   "cell_type": "code",
   "execution_count": 98,
   "id": "34850da5",
   "metadata": {},
   "outputs": [
    {
     "name": "stdout",
     "output_type": "stream",
     "text": [
      "Python 3.8.0\r\n"
     ]
    }
   ],
   "source": [
    "!python --version"
   ]
  },
  {
   "cell_type": "markdown",
   "id": "5c3acdc5",
   "metadata": {},
   "source": [
    "Readme.md\n",
    "    \n",
    "    1. Install Python 3.8.0\n",
    "    2. Install $:> pip3 install git+https://github.com/JustAnotherArchivist/snscrape.git\n",
    "    3. Set `start_date` = \"YYYY-MM-DD\", `end_date` = \"YYYY-MM-DD\"\n",
    "    4. Run function get_tweets\n",
    "    5. Save output df in CSV format."
   ]
  },
  {
   "cell_type": "code",
   "execution_count": 3,
   "id": "2d480755",
   "metadata": {},
   "outputs": [
    {
     "name": "stdout",
     "output_type": "stream",
     "text": [
      "Collecting git+https://github.com/JustAnotherArchivist/snscrape.git\n",
      "  Cloning https://github.com/JustAnotherArchivist/snscrape.git to c:\\users\\akhilesh\\appdata\\local\\temp\\pip-req-build-4eco7eve\n",
      "  Resolved https://github.com/JustAnotherArchivist/snscrape.git to commit 46a603053cfbc0ce3c54d43d7e1ac2427fa82b4d\n",
      "Requirement already satisfied: requests[socks] in c:\\users\\akhilesh\\anaconda3\\lib\\site-packages (from snscrape==0.4.3.20220107.dev65+g46a6030) (2.27.1)\n",
      "Requirement already satisfied: lxml in c:\\users\\akhilesh\\anaconda3\\lib\\site-packages (from snscrape==0.4.3.20220107.dev65+g46a6030) (4.8.0)\n",
      "Requirement already satisfied: beautifulsoup4 in c:\\users\\akhilesh\\anaconda3\\lib\\site-packages (from snscrape==0.4.3.20220107.dev65+g46a6030) (4.11.1)\n",
      "Requirement already satisfied: filelock in c:\\users\\akhilesh\\anaconda3\\lib\\site-packages (from snscrape==0.4.3.20220107.dev65+g46a6030) (3.6.0)\n",
      "Requirement already satisfied: soupsieve>1.2 in c:\\users\\akhilesh\\anaconda3\\lib\\site-packages (from beautifulsoup4->snscrape==0.4.3.20220107.dev65+g46a6030) (2.3.1)\n",
      "Requirement already satisfied: idna<4,>=2.5 in c:\\users\\akhilesh\\anaconda3\\lib\\site-packages (from requests[socks]->snscrape==0.4.3.20220107.dev65+g46a6030) (3.3)\n",
      "Requirement already satisfied: urllib3<1.27,>=1.21.1 in c:\\users\\akhilesh\\anaconda3\\lib\\site-packages (from requests[socks]->snscrape==0.4.3.20220107.dev65+g46a6030) (1.26.9)\n",
      "Requirement already satisfied: charset-normalizer~=2.0.0 in c:\\users\\akhilesh\\anaconda3\\lib\\site-packages (from requests[socks]->snscrape==0.4.3.20220107.dev65+g46a6030) (2.0.4)\n",
      "Requirement already satisfied: certifi>=2017.4.17 in c:\\users\\akhilesh\\anaconda3\\lib\\site-packages (from requests[socks]->snscrape==0.4.3.20220107.dev65+g46a6030) (2021.10.8)\n",
      "Requirement already satisfied: PySocks!=1.5.7,>=1.5.6 in c:\\users\\akhilesh\\anaconda3\\lib\\site-packages (from requests[socks]->snscrape==0.4.3.20220107.dev65+g46a6030) (1.7.1)\n",
      "Building wheels for collected packages: snscrape\n",
      "  Building wheel for snscrape (setup.py): started\n",
      "  Building wheel for snscrape (setup.py): finished with status 'done'\n",
      "  Created wheel for snscrape: filename=snscrape-0.4.3.20220107.dev65+g46a6030-py3-none-any.whl size=68465 sha256=e8c065d1c45894fa1316d5ef09dd2d686abe240d45a47dd14374de60053f895a\n",
      "  Stored in directory: C:\\Users\\Akhilesh\\AppData\\Local\\Temp\\pip-ephem-wheel-cache-4x9of23k\\wheels\\1a\\ba\\e2\\39fa3a11802c4a622f2efc8be3f5ff854481051d0b4c95c1fd\n",
      "Successfully built snscrape\n",
      "Installing collected packages: snscrape\n",
      "Successfully installed snscrape-0.4.3.20220107.dev65+g46a6030\n"
     ]
    },
    {
     "name": "stderr",
     "output_type": "stream",
     "text": [
      "  Running command git clone -q https://github.com/JustAnotherArchivist/snscrape.git 'C:\\Users\\Akhilesh\\AppData\\Local\\Temp\\pip-req-build-4eco7eve'\n"
     ]
    }
   ],
   "source": [
    "!pip3 install git+https://github.com/JustAnotherArchivist/snscrape.git"
   ]
  },
  {
   "cell_type": "markdown",
   "id": "ef21f2ed",
   "metadata": {},
   "source": [
    "### Imports"
   ]
  },
  {
   "cell_type": "code",
   "execution_count": 4,
   "id": "2a78588c",
   "metadata": {},
   "outputs": [],
   "source": [
    "import snscrape.modules.twitter as sntwitter\n",
    "import pandas as pd\n",
    "import time\n",
    "\n",
    "import warnings\n",
    "warnings.filterwarnings('ignore')"
   ]
  },
  {
   "cell_type": "markdown",
   "id": "94fd707f",
   "metadata": {},
   "source": [
    "### SNSCRAPE"
   ]
  },
  {
   "cell_type": "code",
   "execution_count": 5,
   "id": "c22d6b9a",
   "metadata": {},
   "outputs": [],
   "source": [
    "def get_tweets(start_date, end_date, company, tweet_count):\n",
    "    \n",
    "    ttm = time.time()\n",
    "    tweets_per_date = tweet_count\n",
    "    date = pd.to_datetime(start_date, format='%Y-%m-%d')\n",
    "    \n",
    "    tweets_df = pd.DataFrame()\n",
    "    while True:\n",
    "        stt = time.time()\n",
    "        if date.strftime('%Y-%m-%d') == end_date:\n",
    "            break\n",
    "\n",
    "        nxt_date = date + pd.to_timedelta(1, unit='d')\n",
    "        content = '{} since:{} until:{}'.format(company, date.strftime('%Y-%m-%d'), nxt_date.strftime('%Y-%m-%d'))\n",
    "        print(content)\n",
    "\n",
    "        lst_tweets = []\n",
    "        c = 0\n",
    "        for i, tweet in enumerate(sntwitter.TwitterSearchScraper(content).get_items()):\n",
    "            if c > tweets_per_date:\n",
    "                break\n",
    "            if tweet.likeCount >= 500 or tweet.retweetCount >= 1000 or tweet.user.followersCount >= 30000:\n",
    "                relevance = max(tweet.likeCount, tweet.retweetCount, tweet.user.followersCount)\n",
    "                lst_tweets.append([tweet.date, tweet.content, relevance])\n",
    "                c += 1\n",
    "\n",
    "        tweets_df = tweets_df.append(pd.DataFrame(lst_tweets, columns=['date', 'tweet', 'relevance_count']))\n",
    "        date = nxt_date\n",
    "    \n",
    "    tweets_df = tweets_df.reset_index(drop=True)\n",
    "    tweets_df['date'] = tweets_df['date'].apply(lambda x: pd.to_datetime(x).strftime('%Y-%m-%d'))\n",
    "    print(\"\\n\\nTOTAL TIME TAKEN = \", time.time() - ttm)\n",
    "    return tweets_df"
   ]
  },
  {
   "cell_type": "markdown",
   "id": "e0b93418",
   "metadata": {},
   "source": [
    "### Execute"
   ]
  },
  {
   "cell_type": "code",
   "execution_count": 6,
   "id": "e3f37f31",
   "metadata": {},
   "outputs": [
    {
     "name": "stdout",
     "output_type": "stream",
     "text": [
      "microsoft since:2019-01-01 until:2019-01-02\n",
      "microsoft since:2019-01-02 until:2019-01-03\n",
      "microsoft since:2019-01-03 until:2019-01-04\n",
      "microsoft since:2019-01-04 until:2019-01-05\n",
      "microsoft since:2019-01-05 until:2019-01-06\n",
      "microsoft since:2019-01-06 until:2019-01-07\n",
      "microsoft since:2019-01-07 until:2019-01-08\n",
      "microsoft since:2019-01-08 until:2019-01-09\n",
      "microsoft since:2019-01-09 until:2019-01-10\n",
      "microsoft since:2019-01-10 until:2019-01-11\n",
      "microsoft since:2019-01-11 until:2019-01-12\n",
      "microsoft since:2019-01-12 until:2019-01-13\n",
      "microsoft since:2019-01-13 until:2019-01-14\n",
      "microsoft since:2019-01-14 until:2019-01-15\n",
      "microsoft since:2019-01-15 until:2019-01-16\n",
      "microsoft since:2019-01-16 until:2019-01-17\n",
      "microsoft since:2019-01-17 until:2019-01-18\n",
      "microsoft since:2019-01-18 until:2019-01-19\n",
      "microsoft since:2019-01-19 until:2019-01-20\n",
      "microsoft since:2019-01-20 until:2019-01-21\n",
      "microsoft since:2019-01-21 until:2019-01-22\n",
      "microsoft since:2019-01-22 until:2019-01-23\n",
      "microsoft since:2019-01-23 until:2019-01-24\n",
      "microsoft since:2019-01-24 until:2019-01-25\n",
      "microsoft since:2019-01-25 until:2019-01-26\n",
      "microsoft since:2019-01-26 until:2019-01-27\n",
      "microsoft since:2019-01-27 until:2019-01-28\n",
      "microsoft since:2019-01-28 until:2019-01-29\n",
      "microsoft since:2019-01-29 until:2019-01-30\n",
      "microsoft since:2019-01-30 until:2019-01-31\n",
      "microsoft since:2019-01-31 until:2019-02-01\n",
      "microsoft since:2019-02-01 until:2019-02-02\n",
      "microsoft since:2019-02-02 until:2019-02-03\n",
      "microsoft since:2019-02-03 until:2019-02-04\n",
      "microsoft since:2019-02-04 until:2019-02-05\n",
      "microsoft since:2019-02-05 until:2019-02-06\n",
      "microsoft since:2019-02-06 until:2019-02-07\n",
      "microsoft since:2019-02-07 until:2019-02-08\n",
      "microsoft since:2019-02-08 until:2019-02-09\n",
      "microsoft since:2019-02-09 until:2019-02-10\n",
      "microsoft since:2019-02-10 until:2019-02-11\n",
      "microsoft since:2019-02-11 until:2019-02-12\n",
      "microsoft since:2019-02-12 until:2019-02-13\n",
      "microsoft since:2019-02-13 until:2019-02-14\n",
      "microsoft since:2019-02-14 until:2019-02-15\n",
      "microsoft since:2019-02-15 until:2019-02-16\n",
      "microsoft since:2019-02-16 until:2019-02-17\n",
      "microsoft since:2019-02-17 until:2019-02-18\n",
      "microsoft since:2019-02-18 until:2019-02-19\n",
      "microsoft since:2019-02-19 until:2019-02-20\n",
      "microsoft since:2019-02-20 until:2019-02-21\n",
      "microsoft since:2019-02-21 until:2019-02-22\n",
      "microsoft since:2019-02-22 until:2019-02-23\n",
      "microsoft since:2019-02-23 until:2019-02-24\n",
      "microsoft since:2019-02-24 until:2019-02-25\n",
      "microsoft since:2019-02-25 until:2019-02-26\n",
      "microsoft since:2019-02-26 until:2019-02-27\n",
      "microsoft since:2019-02-27 until:2019-02-28\n",
      "microsoft since:2019-02-28 until:2019-03-01\n",
      "microsoft since:2019-03-01 until:2019-03-02\n",
      "microsoft since:2019-03-02 until:2019-03-03\n",
      "microsoft since:2019-03-03 until:2019-03-04\n",
      "microsoft since:2019-03-04 until:2019-03-05\n",
      "microsoft since:2019-03-05 until:2019-03-06\n",
      "microsoft since:2019-03-06 until:2019-03-07\n",
      "microsoft since:2019-03-07 until:2019-03-08\n",
      "microsoft since:2019-03-08 until:2019-03-09\n",
      "microsoft since:2019-03-09 until:2019-03-10\n",
      "microsoft since:2019-03-10 until:2019-03-11\n",
      "microsoft since:2019-03-11 until:2019-03-12\n",
      "microsoft since:2019-03-12 until:2019-03-13\n",
      "microsoft since:2019-03-13 until:2019-03-14\n",
      "microsoft since:2019-03-14 until:2019-03-15\n",
      "microsoft since:2019-03-15 until:2019-03-16\n"
     ]
    },
    {
     "name": "stderr",
     "output_type": "stream",
     "text": [
      "Error retrieving https://api.twitter.com/2/search/adaptive.json?include_profile_interstitial_type=1&include_blocking=1&include_blocked_by=1&include_followed_by=1&include_want_retweets=1&include_mute_edge=1&include_can_dm=1&include_can_media_tag=1&include_ext_has_nft_avatar=1&skip_status=1&cards_platform=Web-12&include_cards=1&include_ext_alt_text=true&include_quote_count=true&include_reply_count=1&tweet_mode=extended&include_entities=true&include_user_entities=true&include_ext_media_color=true&include_ext_media_availability=true&include_ext_sensitive_media_warning=true&include_ext_trusted_friends_metadata=true&send_error_codes=true&simple_quoted_tweet=true&q=microsoft+since%3A2019-03-15+until%3A2019-03-16&tweet_search_mode=live&count=20&query_source=spelling_expansion_revert_click&cursor=scroll%3AthGAVUV0VFVBaAgL_NxPfg2x4WgsCmocTy59seEnEVgNJ5FYCJehgEVVNFUjUBFSIVAAA%3D&pc=1&spelling_corrections=1&ext=mediaStats%2ChighlightedLabel%2ChasNftAvatar%2CvoiceInfo%2Cenrichments%2CsuperFollowMetadata%2CunmentionInfo: ConnectionError(MaxRetryError(\"HTTPSConnectionPool(host='api.twitter.com', port=443): Max retries exceeded with url: /2/search/adaptive.json?include_profile_interstitial_type=1&include_blocking=1&include_blocked_by=1&include_followed_by=1&include_want_retweets=1&include_mute_edge=1&include_can_dm=1&include_can_media_tag=1&include_ext_has_nft_avatar=1&skip_status=1&cards_platform=Web-12&include_cards=1&include_ext_alt_text=true&include_quote_count=true&include_reply_count=1&tweet_mode=extended&include_entities=true&include_user_entities=true&include_ext_media_color=true&include_ext_media_availability=true&include_ext_sensitive_media_warning=true&include_ext_trusted_friends_metadata=true&send_error_codes=true&simple_quoted_tweet=true&q=microsoft+since%3A2019-03-15+until%3A2019-03-16&tweet_search_mode=live&count=20&query_source=spelling_expansion_revert_click&cursor=scroll%3AthGAVUV0VFVBaAgL_NxPfg2x4WgsCmocTy59seEnEVgNJ5FYCJehgEVVNFUjUBFSIVAAA%3D&pc=1&spelling_corrections=1&ext=mediaStats%2ChighlightedLabel%2ChasNftAvatar%2CvoiceInfo%2Cenrichments%2CsuperFollowMetadata%2CunmentionInfo (Caused by NewConnectionError('<urllib3.connection.HTTPSConnection object at 0x00000257F73E66D0>: Failed to establish a new connection: [Errno 11001] getaddrinfo failed'))\"))\n",
      "4 requests to https://api.twitter.com/2/search/adaptive.json?include_profile_interstitial_type=1&include_blocking=1&include_blocked_by=1&include_followed_by=1&include_want_retweets=1&include_mute_edge=1&include_can_dm=1&include_can_media_tag=1&include_ext_has_nft_avatar=1&skip_status=1&cards_platform=Web-12&include_cards=1&include_ext_alt_text=true&include_quote_count=true&include_reply_count=1&tweet_mode=extended&include_entities=true&include_user_entities=true&include_ext_media_color=true&include_ext_media_availability=true&include_ext_sensitive_media_warning=true&include_ext_trusted_friends_metadata=true&send_error_codes=true&simple_quoted_tweet=true&q=microsoft+since%3A2019-03-15+until%3A2019-03-16&tweet_search_mode=live&count=20&query_source=spelling_expansion_revert_click&cursor=scroll%3AthGAVUV0VFVBaAgL_NxPfg2x4WgsCmocTy59seEnEVgNJ5FYCJehgEVVNFUjUBFSIVAAA%3D&pc=1&spelling_corrections=1&ext=mediaStats%2ChighlightedLabel%2ChasNftAvatar%2CvoiceInfo%2Cenrichments%2CsuperFollowMetadata%2CunmentionInfo failed, giving up.\n"
     ]
    },
    {
     "ename": "ScraperException",
     "evalue": "4 requests to https://api.twitter.com/2/search/adaptive.json?include_profile_interstitial_type=1&include_blocking=1&include_blocked_by=1&include_followed_by=1&include_want_retweets=1&include_mute_edge=1&include_can_dm=1&include_can_media_tag=1&include_ext_has_nft_avatar=1&skip_status=1&cards_platform=Web-12&include_cards=1&include_ext_alt_text=true&include_quote_count=true&include_reply_count=1&tweet_mode=extended&include_entities=true&include_user_entities=true&include_ext_media_color=true&include_ext_media_availability=true&include_ext_sensitive_media_warning=true&include_ext_trusted_friends_metadata=true&send_error_codes=true&simple_quoted_tweet=true&q=microsoft+since%3A2019-03-15+until%3A2019-03-16&tweet_search_mode=live&count=20&query_source=spelling_expansion_revert_click&cursor=scroll%3AthGAVUV0VFVBaAgL_NxPfg2x4WgsCmocTy59seEnEVgNJ5FYCJehgEVVNFUjUBFSIVAAA%3D&pc=1&spelling_corrections=1&ext=mediaStats%2ChighlightedLabel%2ChasNftAvatar%2CvoiceInfo%2Cenrichments%2CsuperFollowMetadata%2CunmentionInfo failed, giving up.",
     "output_type": "error",
     "traceback": [
      "\u001b[1;31m---------------------------------------------------------------------------\u001b[0m",
      "\u001b[1;31mScraperException\u001b[0m                          Traceback (most recent call last)",
      "Input \u001b[1;32mIn [6]\u001b[0m, in \u001b[0;36m<cell line: 7>\u001b[1;34m()\u001b[0m\n\u001b[0;32m      4\u001b[0m company \u001b[38;5;241m=\u001b[39m \u001b[38;5;124m\"\u001b[39m\u001b[38;5;124mmicrosoft\u001b[39m\u001b[38;5;124m\"\u001b[39m\n\u001b[0;32m      5\u001b[0m tweet_count \u001b[38;5;241m=\u001b[39m \u001b[38;5;241m49\u001b[39m\n\u001b[1;32m----> 7\u001b[0m tweets_df \u001b[38;5;241m=\u001b[39m \u001b[43mget_tweets\u001b[49m\u001b[43m(\u001b[49m\u001b[43mstart_date\u001b[49m\u001b[43m,\u001b[49m\u001b[43m \u001b[49m\u001b[43mend_date\u001b[49m\u001b[43m,\u001b[49m\u001b[43m \u001b[49m\u001b[43mcompany\u001b[49m\u001b[43m,\u001b[49m\u001b[43m \u001b[49m\u001b[43mtweet_count\u001b[49m\u001b[43m)\u001b[49m\n\u001b[0;32m      8\u001b[0m tweets_df\n",
      "Input \u001b[1;32mIn [5]\u001b[0m, in \u001b[0;36mget_tweets\u001b[1;34m(start_date, end_date, company, tweet_count)\u001b[0m\n\u001b[0;32m     17\u001b[0m lst_tweets \u001b[38;5;241m=\u001b[39m []\n\u001b[0;32m     18\u001b[0m c \u001b[38;5;241m=\u001b[39m \u001b[38;5;241m0\u001b[39m\n\u001b[1;32m---> 19\u001b[0m \u001b[38;5;28;01mfor\u001b[39;00m i, tweet \u001b[38;5;129;01min\u001b[39;00m \u001b[38;5;28menumerate\u001b[39m(sntwitter\u001b[38;5;241m.\u001b[39mTwitterSearchScraper(content)\u001b[38;5;241m.\u001b[39mget_items()):\n\u001b[0;32m     20\u001b[0m     \u001b[38;5;28;01mif\u001b[39;00m c \u001b[38;5;241m>\u001b[39m tweets_per_date:\n\u001b[0;32m     21\u001b[0m         \u001b[38;5;28;01mbreak\u001b[39;00m\n",
      "File \u001b[1;32m~\\Anaconda3\\lib\\site-packages\\snscrape\\modules\\twitter.py:1453\u001b[0m, in \u001b[0;36mTwitterSearchScraper.get_items\u001b[1;34m(self)\u001b[0m\n\u001b[0;32m   1450\u001b[0m \t\u001b[38;5;28;01mdel\u001b[39;00m params[\u001b[38;5;124m'\u001b[39m\u001b[38;5;124mtweet_search_mode\u001b[39m\u001b[38;5;124m'\u001b[39m]\n\u001b[0;32m   1451\u001b[0m \t\u001b[38;5;28;01mdel\u001b[39;00m paginationParams[\u001b[38;5;124m'\u001b[39m\u001b[38;5;124mtweet_search_mode\u001b[39m\u001b[38;5;124m'\u001b[39m]\n\u001b[1;32m-> 1453\u001b[0m \u001b[38;5;28;01mfor\u001b[39;00m obj \u001b[38;5;129;01min\u001b[39;00m \u001b[38;5;28mself\u001b[39m\u001b[38;5;241m.\u001b[39m_iter_api_data(\u001b[38;5;124m'\u001b[39m\u001b[38;5;124mhttps://api.twitter.com/2/search/adaptive.json\u001b[39m\u001b[38;5;124m'\u001b[39m, _TwitterAPIType\u001b[38;5;241m.\u001b[39mV2, params, paginationParams, cursor \u001b[38;5;241m=\u001b[39m \u001b[38;5;28mself\u001b[39m\u001b[38;5;241m.\u001b[39m_cursor):\n\u001b[0;32m   1454\u001b[0m \t\u001b[38;5;28;01myield from\u001b[39;00m \u001b[38;5;28mself\u001b[39m\u001b[38;5;241m.\u001b[39m_v2_timeline_instructions_to_tweets(obj)\n",
      "File \u001b[1;32m~\\Anaconda3\\lib\\site-packages\\snscrape\\modules\\twitter.py:720\u001b[0m, in \u001b[0;36m_TwitterAPIScraper._iter_api_data\u001b[1;34m(self, endpoint, apiType, params, paginationParams, cursor, direction)\u001b[0m\n\u001b[0;32m    718\u001b[0m \u001b[38;5;28;01mwhile\u001b[39;00m \u001b[38;5;28;01mTrue\u001b[39;00m:\n\u001b[0;32m    719\u001b[0m \t_logger\u001b[38;5;241m.\u001b[39minfo(\u001b[38;5;124mf\u001b[39m\u001b[38;5;124m'\u001b[39m\u001b[38;5;124mRetrieving scroll page \u001b[39m\u001b[38;5;132;01m{\u001b[39;00mcursor\u001b[38;5;132;01m}\u001b[39;00m\u001b[38;5;124m'\u001b[39m)\n\u001b[1;32m--> 720\u001b[0m \tobj \u001b[38;5;241m=\u001b[39m \u001b[38;5;28;43mself\u001b[39;49m\u001b[38;5;241;43m.\u001b[39;49m\u001b[43m_get_api_data\u001b[49m\u001b[43m(\u001b[49m\u001b[43mendpoint\u001b[49m\u001b[43m,\u001b[49m\u001b[43m \u001b[49m\u001b[43mapiType\u001b[49m\u001b[43m,\u001b[49m\u001b[43m \u001b[49m\u001b[43mreqParams\u001b[49m\u001b[43m)\u001b[49m\n\u001b[0;32m    721\u001b[0m \t\u001b[38;5;28;01myield\u001b[39;00m obj\n\u001b[0;32m    723\u001b[0m \t\u001b[38;5;66;03m# No data format test, just a hard and loud crash if anything's wrong :-)\u001b[39;00m\n",
      "File \u001b[1;32m~\\Anaconda3\\lib\\site-packages\\snscrape\\modules\\twitter.py:690\u001b[0m, in \u001b[0;36m_TwitterAPIScraper._get_api_data\u001b[1;34m(self, endpoint, apiType, params)\u001b[0m\n\u001b[0;32m    688\u001b[0m \u001b[38;5;28;01mif\u001b[39;00m apiType \u001b[38;5;129;01mis\u001b[39;00m _TwitterAPIType\u001b[38;5;241m.\u001b[39mGRAPHQL:\n\u001b[0;32m    689\u001b[0m \tparams \u001b[38;5;241m=\u001b[39m urllib\u001b[38;5;241m.\u001b[39mparse\u001b[38;5;241m.\u001b[39murlencode({\u001b[38;5;124m'\u001b[39m\u001b[38;5;124mvariables\u001b[39m\u001b[38;5;124m'\u001b[39m: json\u001b[38;5;241m.\u001b[39mdumps(params, separators \u001b[38;5;241m=\u001b[39m (\u001b[38;5;124m'\u001b[39m\u001b[38;5;124m,\u001b[39m\u001b[38;5;124m'\u001b[39m, \u001b[38;5;124m'\u001b[39m\u001b[38;5;124m:\u001b[39m\u001b[38;5;124m'\u001b[39m))}, quote_via \u001b[38;5;241m=\u001b[39m urllib\u001b[38;5;241m.\u001b[39mparse\u001b[38;5;241m.\u001b[39mquote)\n\u001b[1;32m--> 690\u001b[0m r \u001b[38;5;241m=\u001b[39m \u001b[38;5;28;43mself\u001b[39;49m\u001b[38;5;241;43m.\u001b[39;49m\u001b[43m_get\u001b[49m\u001b[43m(\u001b[49m\u001b[43mendpoint\u001b[49m\u001b[43m,\u001b[49m\u001b[43m \u001b[49m\u001b[43mparams\u001b[49m\u001b[43m \u001b[49m\u001b[38;5;241;43m=\u001b[39;49m\u001b[43m \u001b[49m\u001b[43mparams\u001b[49m\u001b[43m,\u001b[49m\u001b[43m \u001b[49m\u001b[43mheaders\u001b[49m\u001b[43m \u001b[49m\u001b[38;5;241;43m=\u001b[39;49m\u001b[43m \u001b[49m\u001b[38;5;28;43mself\u001b[39;49m\u001b[38;5;241;43m.\u001b[39;49m\u001b[43m_apiHeaders\u001b[49m\u001b[43m,\u001b[49m\u001b[43m \u001b[49m\u001b[43mresponseOkCallback\u001b[49m\u001b[43m \u001b[49m\u001b[38;5;241;43m=\u001b[39;49m\u001b[43m \u001b[49m\u001b[38;5;28;43mself\u001b[39;49m\u001b[38;5;241;43m.\u001b[39;49m\u001b[43m_check_api_response\u001b[49m\u001b[43m)\u001b[49m\n\u001b[0;32m    691\u001b[0m \u001b[38;5;28;01mtry\u001b[39;00m:\n\u001b[0;32m    692\u001b[0m \tobj \u001b[38;5;241m=\u001b[39m r\u001b[38;5;241m.\u001b[39mjson()\n",
      "File \u001b[1;32m~\\Anaconda3\\lib\\site-packages\\snscrape\\base.py:221\u001b[0m, in \u001b[0;36mScraper._get\u001b[1;34m(self, *args, **kwargs)\u001b[0m\n\u001b[0;32m    220\u001b[0m \u001b[38;5;28;01mdef\u001b[39;00m \u001b[38;5;21m_get\u001b[39m(\u001b[38;5;28mself\u001b[39m, \u001b[38;5;241m*\u001b[39margs, \u001b[38;5;241m*\u001b[39m\u001b[38;5;241m*\u001b[39mkwargs):\n\u001b[1;32m--> 221\u001b[0m \t\u001b[38;5;28;01mreturn\u001b[39;00m \u001b[38;5;28mself\u001b[39m\u001b[38;5;241m.\u001b[39m_request(\u001b[38;5;124m'\u001b[39m\u001b[38;5;124mGET\u001b[39m\u001b[38;5;124m'\u001b[39m, \u001b[38;5;241m*\u001b[39margs, \u001b[38;5;241m*\u001b[39m\u001b[38;5;241m*\u001b[39mkwargs)\n",
      "File \u001b[1;32m~\\Anaconda3\\lib\\site-packages\\snscrape\\base.py:217\u001b[0m, in \u001b[0;36mScraper._request\u001b[1;34m(self, method, url, params, data, headers, timeout, responseOkCallback, allowRedirects, proxies)\u001b[0m\n\u001b[0;32m    215\u001b[0m \tmsg \u001b[38;5;241m=\u001b[39m \u001b[38;5;124mf\u001b[39m\u001b[38;5;124m'\u001b[39m\u001b[38;5;132;01m{\u001b[39;00m\u001b[38;5;28mself\u001b[39m\u001b[38;5;241m.\u001b[39m_retries \u001b[38;5;241m+\u001b[39m \u001b[38;5;241m1\u001b[39m\u001b[38;5;132;01m}\u001b[39;00m\u001b[38;5;124m requests to \u001b[39m\u001b[38;5;132;01m{\u001b[39;00mreq\u001b[38;5;241m.\u001b[39murl\u001b[38;5;132;01m}\u001b[39;00m\u001b[38;5;124m failed, giving up.\u001b[39m\u001b[38;5;124m'\u001b[39m\n\u001b[0;32m    216\u001b[0m \tlogger\u001b[38;5;241m.\u001b[39mfatal(msg)\n\u001b[1;32m--> 217\u001b[0m \t\u001b[38;5;28;01mraise\u001b[39;00m ScraperException(msg)\n\u001b[0;32m    218\u001b[0m \u001b[38;5;28;01mraise\u001b[39;00m \u001b[38;5;167;01mRuntimeError\u001b[39;00m(\u001b[38;5;124m'\u001b[39m\u001b[38;5;124mReached unreachable code\u001b[39m\u001b[38;5;124m'\u001b[39m)\n",
      "\u001b[1;31mScraperException\u001b[0m: 4 requests to https://api.twitter.com/2/search/adaptive.json?include_profile_interstitial_type=1&include_blocking=1&include_blocked_by=1&include_followed_by=1&include_want_retweets=1&include_mute_edge=1&include_can_dm=1&include_can_media_tag=1&include_ext_has_nft_avatar=1&skip_status=1&cards_platform=Web-12&include_cards=1&include_ext_alt_text=true&include_quote_count=true&include_reply_count=1&tweet_mode=extended&include_entities=true&include_user_entities=true&include_ext_media_color=true&include_ext_media_availability=true&include_ext_sensitive_media_warning=true&include_ext_trusted_friends_metadata=true&send_error_codes=true&simple_quoted_tweet=true&q=microsoft+since%3A2019-03-15+until%3A2019-03-16&tweet_search_mode=live&count=20&query_source=spelling_expansion_revert_click&cursor=scroll%3AthGAVUV0VFVBaAgL_NxPfg2x4WgsCmocTy59seEnEVgNJ5FYCJehgEVVNFUjUBFSIVAAA%3D&pc=1&spelling_corrections=1&ext=mediaStats%2ChighlightedLabel%2ChasNftAvatar%2CvoiceInfo%2Cenrichments%2CsuperFollowMetadata%2CunmentionInfo failed, giving up."
     ]
    }
   ],
   "source": [
    "start_date = \"2019-01-01\"\n",
    "end_date = \"2019-12-31\"\n",
    "\n",
    "company = \"microsoft\"\n",
    "tweet_count = 49\n",
    "\n",
    "tweets_df = get_tweets(start_date, end_date, company, tweet_count)\n",
    "tweets_df"
   ]
  },
  {
   "cell_type": "code",
   "execution_count": null,
   "id": "12e9c256",
   "metadata": {},
   "outputs": [],
   "source": []
  },
  {
   "cell_type": "markdown",
   "id": "23d21997",
   "metadata": {},
   "source": [
    "## Citations"
   ]
  },
  {
   "cell_type": "markdown",
   "id": "2878e81f",
   "metadata": {},
   "source": [
    "https://github.com/JustAnotherArchivist/snscrape"
   ]
  }
 ],
 "metadata": {
  "kernelspec": {
   "display_name": "Python 3 (ipykernel)",
   "language": "python",
   "name": "python3"
  },
  "language_info": {
   "codemirror_mode": {
    "name": "ipython",
    "version": 3
   },
   "file_extension": ".py",
   "mimetype": "text/x-python",
   "name": "python",
   "nbconvert_exporter": "python",
   "pygments_lexer": "ipython3",
   "version": "3.9.12"
  }
 },
 "nbformat": 4,
 "nbformat_minor": 5
}
