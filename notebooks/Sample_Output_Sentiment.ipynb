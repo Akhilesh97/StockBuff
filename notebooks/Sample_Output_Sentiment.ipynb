{
 "cells": [
  {
   "cell_type": "code",
   "execution_count": 9,
   "id": "4f62acda",
   "metadata": {},
   "outputs": [],
   "source": [
    "import pandas as pd\n",
    "import numpy as np"
   ]
  },
  {
   "cell_type": "code",
   "execution_count": 27,
   "id": "a39dae5d",
   "metadata": {},
   "outputs": [],
   "source": [
    "df = pd.read_csv(\"../data/AAPL/1162022/aapl_sentiment_data.csv\")"
   ]
  },
  {
   "cell_type": "code",
   "execution_count": 35,
   "id": "0f1c0439",
   "metadata": {},
   "outputs": [],
   "source": [
    "df[\"date\"] = pd.to_datetime(df[\"date\"])"
   ]
  },
  {
   "cell_type": "code",
   "execution_count": 36,
   "id": "85d58d1c",
   "metadata": {},
   "outputs": [],
   "source": [
    "df[\"date\"] = df[\"date\"].dt.strftime(\"%M%D%YYYY\")"
   ]
  },
  {
   "cell_type": "code",
   "execution_count": 37,
   "id": "076be3ee",
   "metadata": {},
   "outputs": [
    {
     "data": {
      "text/plain": [
       "0      0403/01/212021YYY\n",
       "1      0503/01/212021YYY\n",
       "2      2003/01/212021YYY\n",
       "3      2003/01/212021YYY\n",
       "4      0103/01/212021YYY\n",
       "             ...        \n",
       "640    5501/31/182018YYY\n",
       "641    2711/30/172017YYY\n",
       "642    0011/27/172017YYY\n",
       "643    5810/05/172017YYY\n",
       "644    0502/19/162016YYY\n",
       "Name: date, Length: 645, dtype: object"
      ]
     },
     "execution_count": 37,
     "metadata": {},
     "output_type": "execute_result"
    }
   ],
   "source": [
    "df[\"date\"]"
   ]
  },
  {
   "cell_type": "code",
   "execution_count": 20,
   "id": "276a6a27",
   "metadata": {},
   "outputs": [],
   "source": [
    "df_ = df[[\"date\", \"title\", \"tags\",\"sentiment\"]]"
   ]
  },
  {
   "cell_type": "code",
   "execution_count": 21,
   "id": "2c8d4338",
   "metadata": {},
   "outputs": [
    {
     "data": {
      "text/plain": [
       "0"
      ]
     },
     "execution_count": 21,
     "metadata": {},
     "output_type": "execute_result"
    }
   ],
   "source": [
    "np.argmax({'polarity': 0.974, 'neg': 0, 'neu': 0.934, 'pos': 0.066})"
   ]
  },
  {
   "cell_type": "code",
   "execution_count": 22,
   "id": "377feedd",
   "metadata": {},
   "outputs": [],
   "source": [
    "def get_polarity(x):\n",
    "    return eval(x)[\"polarity\"]"
   ]
  },
  {
   "cell_type": "code",
   "execution_count": 23,
   "id": "5478d739",
   "metadata": {},
   "outputs": [
    {
     "name": "stderr",
     "output_type": "stream",
     "text": [
      "C:\\Users\\Akhilesh\\AppData\\Local\\Temp\\ipykernel_36532\\3930318514.py:1: SettingWithCopyWarning: \n",
      "A value is trying to be set on a copy of a slice from a DataFrame.\n",
      "Try using .loc[row_indexer,col_indexer] = value instead\n",
      "\n",
      "See the caveats in the documentation: https://pandas.pydata.org/pandas-docs/stable/user_guide/indexing.html#returning-a-view-versus-a-copy\n",
      "  df_[\"Polarity\"] = df_[\"sentiment\"].apply(get_polarity)\n"
     ]
    }
   ],
   "source": [
    "df_[\"Polarity\"] = df_[\"sentiment\"].apply(get_polarity)"
   ]
  },
  {
   "cell_type": "code",
   "execution_count": 24,
   "id": "502571c2",
   "metadata": {},
   "outputs": [
    {
     "data": {
      "text/html": [
       "<div>\n",
       "<style scoped>\n",
       "    .dataframe tbody tr th:only-of-type {\n",
       "        vertical-align: middle;\n",
       "    }\n",
       "\n",
       "    .dataframe tbody tr th {\n",
       "        vertical-align: top;\n",
       "    }\n",
       "\n",
       "    .dataframe thead th {\n",
       "        text-align: right;\n",
       "    }\n",
       "</style>\n",
       "<table border=\"1\" class=\"dataframe\">\n",
       "  <thead>\n",
       "    <tr style=\"text-align: right;\">\n",
       "      <th></th>\n",
       "      <th>date</th>\n",
       "      <th>title</th>\n",
       "      <th>tags</th>\n",
       "      <th>sentiment</th>\n",
       "      <th>Polarity</th>\n",
       "    </tr>\n",
       "  </thead>\n",
       "  <tbody>\n",
       "    <tr>\n",
       "      <th>0</th>\n",
       "      <td>2021-03-01T23:04:15+00:00</td>\n",
       "      <td>SoftBank-Backed Mapbox Names New CEO to Go Aft...</td>\n",
       "      <td>['BLOOMBERG', 'BY\\xa0INSTACART INC', 'CHIEF EX...</td>\n",
       "      <td>{'polarity': 0.974, 'neg': 0, 'neu': 0.934, 'p...</td>\n",
       "      <td>0.974</td>\n",
       "    </tr>\n",
       "    <tr>\n",
       "      <th>1</th>\n",
       "      <td>2021-03-01T22:05:12+00:00</td>\n",
       "      <td>Dow Jones Rips 600 Points Higher, Led By Boein...</td>\n",
       "      <td>['APPLE STOCK', 'DOW JONES', 'NASDAQ', 'NASDAQ...</td>\n",
       "      <td>{'polarity': 0.494, 'neg': 0, 'neu': 0.887, 'p...</td>\n",
       "      <td>0.494</td>\n",
       "    </tr>\n",
       "    <tr>\n",
       "      <th>2</th>\n",
       "      <td>2021-03-01T20:20:54+00:00</td>\n",
       "      <td>Dow Jones Rises Over 700 Points As Indexes Rec...</td>\n",
       "      <td>['DOW JONES', 'STOCK MARKET', 'THE DOW', 'U.S....</td>\n",
       "      <td>{'polarity': 0.896, 'neg': 0, 'neu': 0.59, 'po...</td>\n",
       "      <td>0.896</td>\n",
       "    </tr>\n",
       "    <tr>\n",
       "      <th>3</th>\n",
       "      <td>2021-03-01T20:20:54+00:00</td>\n",
       "      <td>Dow Jones Rises Over 700 Points As Indexes Rec...</td>\n",
       "      <td>['DOW JONES', 'STOCK MARKET', 'THE DOW', 'U.S....</td>\n",
       "      <td>{'polarity': 0.896, 'neg': 0, 'neu': 0.59, 'po...</td>\n",
       "      <td>0.896</td>\n",
       "    </tr>\n",
       "    <tr>\n",
       "      <th>4</th>\n",
       "      <td>2021-03-01T19:01:11+00:00</td>\n",
       "      <td>Warren Buffett signals more stock buybacks com...</td>\n",
       "      <td>['BOYAR', 'JONATHAN BOYAR', 'KRISTIN MYERS', '...</td>\n",
       "      <td>{'polarity': 0.999, 'neg': 0.04, 'neu': 0.821,...</td>\n",
       "      <td>0.999</td>\n",
       "    </tr>\n",
       "    <tr>\n",
       "      <th>...</th>\n",
       "      <td>...</td>\n",
       "      <td>...</td>\n",
       "      <td>...</td>\n",
       "      <td>...</td>\n",
       "      <td>...</td>\n",
       "    </tr>\n",
       "    <tr>\n",
       "      <th>640</th>\n",
       "      <td>2018-01-31T12:55:00+00:00</td>\n",
       "      <td>Investor Expectations to Drive Momentum within...</td>\n",
       "      <td>['FUNDAMENTAL MARKETS']</td>\n",
       "      <td>{'polarity': 0.995, 'neg': 0.009, 'neu': 0.937...</td>\n",
       "      <td>0.995</td>\n",
       "    </tr>\n",
       "    <tr>\n",
       "      <th>641</th>\n",
       "      <td>2017-11-30T14:27:00+00:00</td>\n",
       "      <td>BioTelemetry, Inc. Enters Agreement to Provide...</td>\n",
       "      <td>['BIOTELEMETRY', 'INC', 'NASDAQ:BEAT']</td>\n",
       "      <td>{'polarity': 0.989, 'neg': 0.021, 'neu': 0.804...</td>\n",
       "      <td>0.989</td>\n",
       "    </tr>\n",
       "    <tr>\n",
       "      <th>642</th>\n",
       "      <td>2017-11-27T13:00:00+00:00</td>\n",
       "      <td>Factors of Influence in 2018, Key Indicators a...</td>\n",
       "      <td>['FUNDAMENTAL MARKETS']</td>\n",
       "      <td>{'polarity': 0.997, 'neg': 0.008, 'neu': 0.926...</td>\n",
       "      <td>0.997</td>\n",
       "    </tr>\n",
       "    <tr>\n",
       "      <th>643</th>\n",
       "      <td>2017-10-05T15:58:00+00:00</td>\n",
       "      <td>New Research: Key Drivers of Growth for Micros...</td>\n",
       "      <td>['FUNDAMENTAL MARKETS']</td>\n",
       "      <td>{'polarity': 0.997, 'neg': 0.008, 'neu': 0.925...</td>\n",
       "      <td>0.997</td>\n",
       "    </tr>\n",
       "    <tr>\n",
       "      <th>644</th>\n",
       "      <td>2016-02-19T15:05:00+00:00</td>\n",
       "      <td>Payment Data Systems Announces Apple Pay Suppo...</td>\n",
       "      <td>['AKIMBO', 'AKIMBO CARD', 'APPLE', 'APPLE PAY'...</td>\n",
       "      <td>{'polarity': 0.994, 'neg': 0.023, 'neu': 0.869...</td>\n",
       "      <td>0.994</td>\n",
       "    </tr>\n",
       "  </tbody>\n",
       "</table>\n",
       "<p>645 rows × 5 columns</p>\n",
       "</div>"
      ],
      "text/plain": [
       "                          date  \\\n",
       "0    2021-03-01T23:04:15+00:00   \n",
       "1    2021-03-01T22:05:12+00:00   \n",
       "2    2021-03-01T20:20:54+00:00   \n",
       "3    2021-03-01T20:20:54+00:00   \n",
       "4    2021-03-01T19:01:11+00:00   \n",
       "..                         ...   \n",
       "640  2018-01-31T12:55:00+00:00   \n",
       "641  2017-11-30T14:27:00+00:00   \n",
       "642  2017-11-27T13:00:00+00:00   \n",
       "643  2017-10-05T15:58:00+00:00   \n",
       "644  2016-02-19T15:05:00+00:00   \n",
       "\n",
       "                                                 title  \\\n",
       "0    SoftBank-Backed Mapbox Names New CEO to Go Aft...   \n",
       "1    Dow Jones Rips 600 Points Higher, Led By Boein...   \n",
       "2    Dow Jones Rises Over 700 Points As Indexes Rec...   \n",
       "3    Dow Jones Rises Over 700 Points As Indexes Rec...   \n",
       "4    Warren Buffett signals more stock buybacks com...   \n",
       "..                                                 ...   \n",
       "640  Investor Expectations to Drive Momentum within...   \n",
       "641  BioTelemetry, Inc. Enters Agreement to Provide...   \n",
       "642  Factors of Influence in 2018, Key Indicators a...   \n",
       "643  New Research: Key Drivers of Growth for Micros...   \n",
       "644  Payment Data Systems Announces Apple Pay Suppo...   \n",
       "\n",
       "                                                  tags  \\\n",
       "0    ['BLOOMBERG', 'BY\\xa0INSTACART INC', 'CHIEF EX...   \n",
       "1    ['APPLE STOCK', 'DOW JONES', 'NASDAQ', 'NASDAQ...   \n",
       "2    ['DOW JONES', 'STOCK MARKET', 'THE DOW', 'U.S....   \n",
       "3    ['DOW JONES', 'STOCK MARKET', 'THE DOW', 'U.S....   \n",
       "4    ['BOYAR', 'JONATHAN BOYAR', 'KRISTIN MYERS', '...   \n",
       "..                                                 ...   \n",
       "640                            ['FUNDAMENTAL MARKETS']   \n",
       "641             ['BIOTELEMETRY', 'INC', 'NASDAQ:BEAT']   \n",
       "642                            ['FUNDAMENTAL MARKETS']   \n",
       "643                            ['FUNDAMENTAL MARKETS']   \n",
       "644  ['AKIMBO', 'AKIMBO CARD', 'APPLE', 'APPLE PAY'...   \n",
       "\n",
       "                                             sentiment  Polarity  \n",
       "0    {'polarity': 0.974, 'neg': 0, 'neu': 0.934, 'p...     0.974  \n",
       "1    {'polarity': 0.494, 'neg': 0, 'neu': 0.887, 'p...     0.494  \n",
       "2    {'polarity': 0.896, 'neg': 0, 'neu': 0.59, 'po...     0.896  \n",
       "3    {'polarity': 0.896, 'neg': 0, 'neu': 0.59, 'po...     0.896  \n",
       "4    {'polarity': 0.999, 'neg': 0.04, 'neu': 0.821,...     0.999  \n",
       "..                                                 ...       ...  \n",
       "640  {'polarity': 0.995, 'neg': 0.009, 'neu': 0.937...     0.995  \n",
       "641  {'polarity': 0.989, 'neg': 0.021, 'neu': 0.804...     0.989  \n",
       "642  {'polarity': 0.997, 'neg': 0.008, 'neu': 0.926...     0.997  \n",
       "643  {'polarity': 0.997, 'neg': 0.008, 'neu': 0.925...     0.997  \n",
       "644  {'polarity': 0.994, 'neg': 0.023, 'neu': 0.869...     0.994  \n",
       "\n",
       "[645 rows x 5 columns]"
      ]
     },
     "execution_count": 24,
     "metadata": {},
     "output_type": "execute_result"
    }
   ],
   "source": [
    "df_"
   ]
  },
  {
   "cell_type": "code",
   "execution_count": 25,
   "id": "b7e52f25",
   "metadata": {},
   "outputs": [
    {
     "data": {
      "text/plain": [
       "\"{'polarity': 0.974, 'neg': 0, 'neu': 0.934, 'pos': 0.066}\""
      ]
     },
     "execution_count": 25,
     "metadata": {},
     "output_type": "execute_result"
    }
   ],
   "source": [
    "df_[\"sentiment\"].iloc[0]"
   ]
  },
  {
   "cell_type": "code",
   "execution_count": 26,
   "id": "75e71906",
   "metadata": {},
   "outputs": [],
   "source": [
    "df_.to_csv(\"../data/Predictions/AAPL/sentiment_out.csv\")"
   ]
  }
 ],
 "metadata": {
  "kernelspec": {
   "display_name": "Python 3 (ipykernel)",
   "language": "python",
   "name": "python3"
  },
  "language_info": {
   "codemirror_mode": {
    "name": "ipython",
    "version": 3
   },
   "file_extension": ".py",
   "mimetype": "text/x-python",
   "name": "python",
   "nbconvert_exporter": "python",
   "pygments_lexer": "ipython3",
   "version": "3.9.12"
  }
 },
 "nbformat": 4,
 "nbformat_minor": 5
}
